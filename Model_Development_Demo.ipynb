{
 "cells": [
  {
   "cell_type": "markdown",
   "metadata": {},
   "source": [
    "# Identifying Fake Instagram Accounts\n",
    "\n",
    "Growing a strong social media presence is important for some businesses. While a large number of followers is desirable, many Instagram growth tactics resort to boosting follower numbers through acquisition or purchase of robot or dummy accounts. These accounts provide no value to the influencer apart from artificially inflating the number of followers the influencer has. The presence of these fake accounts serves to dilute the engagement rates between influencers and their fans. Therefore, it is helpful to identify and remove such accounts from an influencer's page. For large influencer accounts with thousands of followers, the need to remove accounts in an automated way is necessary to reduce tedious work for an individual manageing a social-media presence--time better spent creating content and engaging with followers. \n",
    "\n",
    "Previously, simple methods based on follower-ratio or post count cut-offs have been used to reduce follower populations. Here, we instead investigate the use of machine learning models to identify fake accounts. To do so, the following steps have been taken:\n",
    "\n",
    "1. Collect a list of followers for an influencer instagram account\n",
    "2. Scrape relevant statistics for each follower. Here, we use the following statistics:\n",
    "    + Number of Posts\n",
    "    + Number of Followers\n",
    "    + Number of Following\n",
    "3. Building a training set\n",
    "    + Select a subset of followers\n",
    "    + Manually label accounts as real or fake \n",
    "4. Test machine learning models\n",
    "    + Compare several models\n",
    "    + Feature engineering - try to create new features to improve model performance\n",
    "5. Build production model from full training set\n",
    "6. Apply model to identify fake accounts in test set\n",
    "7. Remove fake accounts from influencer's instagram following\n",
    "8. Challenges & Next Steps\n",
    "    + No Automated way to remove accounts\n",
    "    + Resort to growth"
   ]
  },
  {
   "cell_type": "markdown",
   "metadata": {},
   "source": [
    "## Takeaways\n",
    "\n",
    "**Types of Fakes**\n",
    "\n",
    "+ Over ~7K \n",
    "+ Abandoned accounts\n",
    "+ Brazilian/Thai bot network - undesirable even if real \n",
    "+ Stolen photos\n",
    "+ Generic photos\n",
    "+ Inapporopriate content - lewd, graphic\n",
    "+ Incoherent post history - geography/interests\n",
    "\n",
    "**Development & Evaluation Process**\n",
    "\n",
    "+ Simple algorithms\n",
    "+ Feature engineering\n",
    "+ Advanced algorithms\n",
    "+ Comparison to standard methods (ie. cutoffs)\n",
    "+ We want 0's -- we don't mind 1's, some fakes are OK--but we do not want to miss REAL followers. \n",
    "+ A high real recall score is necessary"
   ]
  },
  {
   "cell_type": "code",
   "execution_count": 2,
   "metadata": {},
   "outputs": [
    {
     "name": "stderr",
     "output_type": "stream",
     "text": [
      "/anaconda/lib/python3.6/site-packages/sklearn/ensemble/weight_boosting.py:29: DeprecationWarning: numpy.core.umath_tests is an internal NumPy module and should not be imported. It will be removed in a future NumPy release.\n",
      "  from numpy.core.umath_tests import inner1d\n"
     ]
    }
   ],
   "source": [
    "import json, itertools, pickle\n",
    "import numpy as np\n",
    "import pandas as pd\n",
    "import matplotlib.pyplot as plt\n",
    "import seaborn as sns\n",
    "%matplotlib inline\n",
    "\n",
    "# modeling\n",
    "from sklearn.model_selection import train_test_split\n",
    "from sklearn.metrics import classification_report, confusion_matrix\n",
    "from sklearn.linear_model import LogisticRegression\n",
    "from sklearn.ensemble import RandomForestClassifier\n",
    "from sklearn.neighbors import KNeighborsClassifier\n",
    "from sklearn.naive_bayes import GaussianNB\n",
    "from sklearn.model_selection import StratifiedKFold"
   ]
  },
  {
   "cell_type": "markdown",
   "metadata": {},
   "source": [
    "## 1. Collect follower list\n",
    "\n",
    "This was done using the InstaPy library authored by Tim Grossman. \n",
    "\n",
    "Here is a sample of the results:"
   ]
  },
  {
   "cell_type": "code",
   "execution_count": 3,
   "metadata": {},
   "outputs": [
    {
     "data": {
      "text/plain": [
       "['iamafakeuser_', '_an0th3r_fake', 'realperson', 'natgeo', 'catlover']"
      ]
     },
     "execution_count": 3,
     "metadata": {},
     "output_type": "execute_result"
    }
   ],
   "source": [
    "with open('../data/followers-27-11-2018~full~23501.json') as f:\n",
    "    followers = json.load(f)\n",
    "    \n",
    "sample_list = ['iamafakeuser_', '_an0th3r_fake', 'realperson', 'natgeo', 'catlover']\n",
    "sample_list"
   ]
  },
  {
   "cell_type": "code",
   "execution_count": 4,
   "metadata": {},
   "outputs": [
    {
     "name": "stdout",
     "output_type": "stream",
     "text": [
      "The client account has 23501 followers\n"
     ]
    }
   ],
   "source": [
    "print('The client account has {} followers'.format(len(followers)))"
   ]
  },
  {
   "cell_type": "markdown",
   "metadata": {},
   "source": [
    "## 2. Scrape Follower Attributes\n",
    "\n",
    "This was done by modifying the InstaPy source code to add functionality and extract post and follower counts. The following information was retreived and saved to a .csv file:\n",
    "\n",
    "    + Number of Posts\n",
    "    + Number of Followers\n",
    "    + Number of accounts Followed"
   ]
  },
  {
   "cell_type": "code",
   "execution_count": 5,
   "metadata": {},
   "outputs": [
    {
     "data": {
      "text/html": [
       "<div>\n",
       "<style scoped>\n",
       "    .dataframe tbody tr th:only-of-type {\n",
       "        vertical-align: middle;\n",
       "    }\n",
       "\n",
       "    .dataframe tbody tr th {\n",
       "        vertical-align: top;\n",
       "    }\n",
       "\n",
       "    .dataframe thead th {\n",
       "        text-align: right;\n",
       "    }\n",
       "</style>\n",
       "<table border=\"1\" class=\"dataframe\">\n",
       "  <thead>\n",
       "    <tr style=\"text-align: right;\">\n",
       "      <th></th>\n",
       "      <th>posts</th>\n",
       "      <th>followers</th>\n",
       "      <th>following</th>\n",
       "    </tr>\n",
       "  </thead>\n",
       "  <tbody>\n",
       "    <tr>\n",
       "      <th>0</th>\n",
       "      <td>0</td>\n",
       "      <td>685</td>\n",
       "      <td>6700</td>\n",
       "    </tr>\n",
       "    <tr>\n",
       "      <th>1</th>\n",
       "      <td>278</td>\n",
       "      <td>2877</td>\n",
       "      <td>2093</td>\n",
       "    </tr>\n",
       "    <tr>\n",
       "      <th>2</th>\n",
       "      <td>229</td>\n",
       "      <td>1359</td>\n",
       "      <td>862</td>\n",
       "    </tr>\n",
       "    <tr>\n",
       "      <th>3</th>\n",
       "      <td>320</td>\n",
       "      <td>3071</td>\n",
       "      <td>7306</td>\n",
       "    </tr>\n",
       "    <tr>\n",
       "      <th>4</th>\n",
       "      <td>66</td>\n",
       "      <td>2505</td>\n",
       "      <td>388</td>\n",
       "    </tr>\n",
       "  </tbody>\n",
       "</table>\n",
       "</div>"
      ],
      "text/plain": [
       "  posts followers following\n",
       "0     0       685      6700\n",
       "1   278      2877      2093\n",
       "2   229      1359       862\n",
       "3   320      3071      7306\n",
       "4    66      2505       388"
      ]
     },
     "execution_count": 5,
     "metadata": {},
     "output_type": "execute_result"
    }
   ],
   "source": [
    "data = pd.read_csv('../data/follower-stats.txt', delim_whitespace=True)\n",
    "\n",
    "# select columns to show for anonymity\n",
    "cols_to_show = ['posts', 'followers', 'following']\n",
    "\n",
    "data[cols_to_show].head()"
   ]
  },
  {
   "cell_type": "code",
   "execution_count": 6,
   "metadata": {
    "collapsed": true
   },
   "outputs": [],
   "source": [
    "# Identify and remove usernames that have been changed\n",
    "changed_users = data[data.posts=='None']['username']\n",
    "changed_indices = changed_users.index\n",
    "changed_user_names = changed_users.values\n",
    "\n",
    "# write changed names to file\n",
    "#with open('../data/changed_users.json', 'w') as fp:  \n",
    "#    json.dump(changed_user_names.tolist(), fp)\n",
    "\n",
    "# create a df with active users only\n",
    "active_users = data.drop(labels=changed_indices)"
   ]
  },
  {
   "cell_type": "code",
   "execution_count": 7,
   "metadata": {},
   "outputs": [
    {
     "data": {
      "text/plain": [
       "23375"
      ]
     },
     "execution_count": 7,
     "metadata": {},
     "output_type": "execute_result"
    }
   ],
   "source": [
    "len(active_users)"
   ]
  },
  {
   "cell_type": "markdown",
   "metadata": {},
   "source": [
    "## 3. Build Training Set\n",
    "\n",
    "+ Select subset\n",
    "+ Manually label as Real/Fake\n",
    "\n",
    "** Subset selection **"
   ]
  },
  {
   "cell_type": "code",
   "execution_count": 8,
   "metadata": {},
   "outputs": [
    {
     "data": {
      "text/html": [
       "<div>\n",
       "<style scoped>\n",
       "    .dataframe tbody tr th:only-of-type {\n",
       "        vertical-align: middle;\n",
       "    }\n",
       "\n",
       "    .dataframe tbody tr th {\n",
       "        vertical-align: top;\n",
       "    }\n",
       "\n",
       "    .dataframe thead th {\n",
       "        text-align: right;\n",
       "    }\n",
       "</style>\n",
       "<table border=\"1\" class=\"dataframe\">\n",
       "  <thead>\n",
       "    <tr style=\"text-align: right;\">\n",
       "      <th></th>\n",
       "      <th>posts</th>\n",
       "      <th>followers</th>\n",
       "      <th>following</th>\n",
       "    </tr>\n",
       "  </thead>\n",
       "  <tbody>\n",
       "    <tr>\n",
       "      <th>14202</th>\n",
       "      <td>3</td>\n",
       "      <td>876</td>\n",
       "      <td>7202</td>\n",
       "    </tr>\n",
       "    <tr>\n",
       "      <th>15214</th>\n",
       "      <td>61</td>\n",
       "      <td>81</td>\n",
       "      <td>5929</td>\n",
       "    </tr>\n",
       "    <tr>\n",
       "      <th>7839</th>\n",
       "      <td>42</td>\n",
       "      <td>26</td>\n",
       "      <td>326</td>\n",
       "    </tr>\n",
       "    <tr>\n",
       "      <th>16190</th>\n",
       "      <td>14</td>\n",
       "      <td>48</td>\n",
       "      <td>1454</td>\n",
       "    </tr>\n",
       "    <tr>\n",
       "      <th>19924</th>\n",
       "      <td>32</td>\n",
       "      <td>207</td>\n",
       "      <td>6556</td>\n",
       "    </tr>\n",
       "  </tbody>\n",
       "</table>\n",
       "</div>"
      ],
      "text/plain": [
       "      posts followers following\n",
       "14202     3       876      7202\n",
       "15214    61        81      5929\n",
       "7839     42        26       326\n",
       "16190    14        48      1454\n",
       "19924    32       207      6556"
      ]
     },
     "execution_count": 8,
     "metadata": {},
     "output_type": "execute_result"
    }
   ],
   "source": [
    "# or use DataFrame.sample()\n",
    "\n",
    "subset_percentage = 0.05\n",
    "\n",
    "# training set - use a random_state for reproducability\n",
    "data_train = active_users.sample(frac=subset_percentage, random_state=0)\n",
    "\n",
    "# test set\n",
    "data_test = active_users.drop(data_train.index)\n",
    "\n",
    "# Save train & test set data -- comment to avoid overwriting\n",
    "#data_train.to_csv('../data/train.csv')\n",
    "#data_test.to_csv('../data/test.csv')\n",
    "\n",
    "data_train[cols_to_show].head()"
   ]
  },
  {
   "cell_type": "markdown",
   "metadata": {},
   "source": [
    "** Manually Labeled Subset **"
   ]
  },
  {
   "cell_type": "code",
   "execution_count": 9,
   "metadata": {},
   "outputs": [
    {
     "data": {
      "text/plain": [
       "Index(['username', 'posts', 'followers', 'following', 'fake', 'tester'], dtype='object')"
      ]
     },
     "execution_count": 9,
     "metadata": {},
     "output_type": "execute_result"
    }
   ],
   "source": [
    "# Updated to standardize manual labels\n",
    "labeled_train = pd.read_csv('../data/labeled_train_updated_tester_all.csv', index_col=0, usecols=[0,1,2,3,4,5,6])\n",
    "labeled_train.columns"
   ]
  },
  {
   "cell_type": "code",
   "execution_count": 10,
   "metadata": {},
   "outputs": [
    {
     "data": {
      "text/html": [
       "<div>\n",
       "<style scoped>\n",
       "    .dataframe tbody tr th:only-of-type {\n",
       "        vertical-align: middle;\n",
       "    }\n",
       "\n",
       "    .dataframe tbody tr th {\n",
       "        vertical-align: top;\n",
       "    }\n",
       "\n",
       "    .dataframe thead th {\n",
       "        text-align: right;\n",
       "    }\n",
       "</style>\n",
       "<table border=\"1\" class=\"dataframe\">\n",
       "  <thead>\n",
       "    <tr style=\"text-align: right;\">\n",
       "      <th></th>\n",
       "      <th>posts</th>\n",
       "      <th>followers</th>\n",
       "      <th>following</th>\n",
       "      <th>fake</th>\n",
       "    </tr>\n",
       "  </thead>\n",
       "  <tbody>\n",
       "    <tr>\n",
       "      <th>14202</th>\n",
       "      <td>3</td>\n",
       "      <td>876</td>\n",
       "      <td>7202</td>\n",
       "      <td>0</td>\n",
       "    </tr>\n",
       "    <tr>\n",
       "      <th>15214</th>\n",
       "      <td>61</td>\n",
       "      <td>81</td>\n",
       "      <td>5929</td>\n",
       "      <td>0</td>\n",
       "    </tr>\n",
       "    <tr>\n",
       "      <th>7839</th>\n",
       "      <td>42</td>\n",
       "      <td>26</td>\n",
       "      <td>326</td>\n",
       "      <td>1</td>\n",
       "    </tr>\n",
       "    <tr>\n",
       "      <th>16190</th>\n",
       "      <td>14</td>\n",
       "      <td>48</td>\n",
       "      <td>1454</td>\n",
       "      <td>0</td>\n",
       "    </tr>\n",
       "    <tr>\n",
       "      <th>19924</th>\n",
       "      <td>32</td>\n",
       "      <td>207</td>\n",
       "      <td>6556</td>\n",
       "      <td>0</td>\n",
       "    </tr>\n",
       "  </tbody>\n",
       "</table>\n",
       "</div>"
      ],
      "text/plain": [
       "       posts  followers  following  fake\n",
       "14202      3        876       7202     0\n",
       "15214     61         81       5929     0\n",
       "7839      42         26        326     1\n",
       "16190     14         48       1454     0\n",
       "19924     32        207       6556     0"
      ]
     },
     "execution_count": 10,
     "metadata": {},
     "output_type": "execute_result"
    }
   ],
   "source": [
    "cols_to_show_labeled = ['posts', 'followers', 'following', 'fake']\n",
    "target_col = 'fake'\n",
    "\n",
    "labeled_train[cols_to_show_labeled].head()"
   ]
  },
  {
   "cell_type": "markdown",
   "metadata": {},
   "source": [
    "** Check for consistency **"
   ]
  },
  {
   "cell_type": "code",
   "execution_count": 11,
   "metadata": {},
   "outputs": [
    {
     "data": {
      "text/plain": [
       "username     0\n",
       "posts        0\n",
       "followers    0\n",
       "following    0\n",
       "fake         0\n",
       "tester       0\n",
       "dtype: int64"
      ]
     },
     "execution_count": 11,
     "metadata": {},
     "output_type": "execute_result"
    }
   ],
   "source": [
    "labeled_train.isnull().sum()"
   ]
  },
  {
   "cell_type": "code",
   "execution_count": 13,
   "metadata": {},
   "outputs": [
    {
     "data": {
      "text/plain": [
       "array([0, 1])"
      ]
     },
     "execution_count": 13,
     "metadata": {},
     "output_type": "execute_result"
    }
   ],
   "source": [
    "labeled_train.fake.unique()"
   ]
  },
  {
   "cell_type": "code",
   "execution_count": 14,
   "metadata": {},
   "outputs": [
    {
     "data": {
      "text/plain": [
       "1    1037\n",
       "0     132\n",
       "Name: fake, dtype: int64"
      ]
     },
     "execution_count": 14,
     "metadata": {},
     "output_type": "execute_result"
    }
   ],
   "source": [
    "# clean up labels\n",
    "labeled_train.fake.replace(to_replace='o', value=0, inplace=True)\n",
    "labeled_train.fake = labeled_train.fake.apply(lambda x: int(x))\n",
    "labeled_train.fake.value_counts()"
   ]
  },
  {
   "cell_type": "markdown",
   "metadata": {},
   "source": [
    "** Tester 3 has a higher number of real accounts. Possibly less discerning **\n",
    "\n",
    "+ Tester 3 is definitely more leninent (went from 100 to 40!)\n",
    "+ Do the same for testers 2 and 4\n",
    "+ Test without editing\n",
    "+ If results are poor, re-visit and edit labels (7Ks)"
   ]
  },
  {
   "cell_type": "code",
   "execution_count": 15,
   "metadata": {},
   "outputs": [
    {
     "data": {
      "text/plain": [
       "tester  fake\n",
       "four    1       246\n",
       "        0        24\n",
       "one     1       256\n",
       "        0        43\n",
       "three   1       260\n",
       "        0        40\n",
       "two     1       275\n",
       "        0        25\n",
       "Name: fake, dtype: int64"
      ]
     },
     "execution_count": 15,
     "metadata": {},
     "output_type": "execute_result"
    }
   ],
   "source": [
    "labeled_train.groupby('tester')['fake'].value_counts()"
   ]
  },
  {
   "cell_type": "markdown",
   "metadata": {},
   "source": [
    "** Feature Engineering **\n",
    "\n",
    "+ ratio\n",
    "+ has number"
   ]
  },
  {
   "cell_type": "code",
   "execution_count": 17,
   "metadata": {},
   "outputs": [
    {
     "data": {
      "text/plain": [
       "Index(['username', 'posts', 'followers', 'following', 'fake', 'tester'], dtype='object')"
      ]
     },
     "execution_count": 17,
     "metadata": {},
     "output_type": "execute_result"
    }
   ],
   "source": [
    "labeled_train.columns"
   ]
  },
  {
   "cell_type": "markdown",
   "metadata": {},
   "source": [
    "## Feature Engineering"
   ]
  },
  {
   "cell_type": "code",
   "execution_count": 16,
   "metadata": {},
   "outputs": [
    {
     "data": {
      "text/html": [
       "<div>\n",
       "<style scoped>\n",
       "    .dataframe tbody tr th:only-of-type {\n",
       "        vertical-align: middle;\n",
       "    }\n",
       "\n",
       "    .dataframe tbody tr th {\n",
       "        vertical-align: top;\n",
       "    }\n",
       "\n",
       "    .dataframe thead th {\n",
       "        text-align: right;\n",
       "    }\n",
       "</style>\n",
       "<table border=\"1\" class=\"dataframe\">\n",
       "  <thead>\n",
       "    <tr style=\"text-align: right;\">\n",
       "      <th></th>\n",
       "      <th>posts</th>\n",
       "      <th>followers</th>\n",
       "      <th>following</th>\n",
       "      <th>fake</th>\n",
       "      <th>ratio</th>\n",
       "      <th>has_number</th>\n",
       "      <th>ends_number</th>\n",
       "    </tr>\n",
       "  </thead>\n",
       "  <tbody>\n",
       "    <tr>\n",
       "      <th>14202</th>\n",
       "      <td>3</td>\n",
       "      <td>876</td>\n",
       "      <td>7202</td>\n",
       "      <td>0</td>\n",
       "      <td>0.121633</td>\n",
       "      <td>1</td>\n",
       "      <td>1</td>\n",
       "    </tr>\n",
       "    <tr>\n",
       "      <th>15214</th>\n",
       "      <td>61</td>\n",
       "      <td>81</td>\n",
       "      <td>5929</td>\n",
       "      <td>0</td>\n",
       "      <td>0.013662</td>\n",
       "      <td>1</td>\n",
       "      <td>0</td>\n",
       "    </tr>\n",
       "    <tr>\n",
       "      <th>7839</th>\n",
       "      <td>42</td>\n",
       "      <td>26</td>\n",
       "      <td>326</td>\n",
       "      <td>1</td>\n",
       "      <td>0.079755</td>\n",
       "      <td>0</td>\n",
       "      <td>0</td>\n",
       "    </tr>\n",
       "    <tr>\n",
       "      <th>16190</th>\n",
       "      <td>14</td>\n",
       "      <td>48</td>\n",
       "      <td>1454</td>\n",
       "      <td>0</td>\n",
       "      <td>0.033012</td>\n",
       "      <td>1</td>\n",
       "      <td>1</td>\n",
       "    </tr>\n",
       "    <tr>\n",
       "      <th>19924</th>\n",
       "      <td>32</td>\n",
       "      <td>207</td>\n",
       "      <td>6556</td>\n",
       "      <td>0</td>\n",
       "      <td>0.031574</td>\n",
       "      <td>0</td>\n",
       "      <td>0</td>\n",
       "    </tr>\n",
       "  </tbody>\n",
       "</table>\n",
       "</div>"
      ],
      "text/plain": [
       "       posts  followers  following  fake     ratio  has_number  ends_number\n",
       "14202      3        876       7202     0  0.121633           1            1\n",
       "15214     61         81       5929     0  0.013662           1            0\n",
       "7839      42         26        326     1  0.079755           0            0\n",
       "16190     14         48       1454     0  0.033012           1            1\n",
       "19924     32        207       6556     0  0.031574           0            0"
      ]
     },
     "execution_count": 16,
     "metadata": {},
     "output_type": "execute_result"
    }
   ],
   "source": [
    "# update to handle 0s\n",
    "labeled_train['ratio'] = labeled_train.followers/labeled_train.following\n",
    "labeled_train['has_number'] = labeled_train.username.apply(lambda user: any(c.isdigit() for c in user)).astype(int)\n",
    "labeled_train['ends_number'] = labeled_train.username.apply(lambda user: user[-1].isdigit()).astype(int)\n",
    "\n",
    "eng_feats = ['ratio', 'has_number', 'ends_number']\n",
    "\n",
    "labeled_train[cols_to_show_labeled+eng_feats].head()"
   ]
  },
  {
   "cell_type": "code",
   "execution_count": 17,
   "metadata": {},
   "outputs": [
    {
     "data": {
      "text/plain": [
       "Text(0.5,0,'# following')"
      ]
     },
     "execution_count": 17,
     "metadata": {},
     "output_type": "execute_result"
    },
    {
     "data": {
      "image/png": "[encoded data removed]",
      "text/plain": [
       "<matplotlib.figure.Figure at 0x113d025c0>"
      ]
     },
     "metadata": {},
     "output_type": "display_data"
    }
   ],
   "source": [
    "labeled_train.following.hist()\n",
    "plt.ylabel('# accounts')\n",
    "plt.xlabel('# following')"
   ]
  },
  {
   "cell_type": "markdown",
   "metadata": {},
   "source": [
    "## Learning Model Prototype"
   ]
  },
  {
   "cell_type": "code",
   "execution_count": 18,
   "metadata": {
    "collapsed": true
   },
   "outputs": [],
   "source": [
    "cols_to_show_training = ['posts', 'followers', \n",
    "                         'following', 'fake', 'tester',\n",
    "                         'ratio', 'has_number', 'ends_number']"
   ]
  },
  {
   "cell_type": "code",
   "execution_count": 19,
   "metadata": {},
   "outputs": [
    {
     "data": {
      "text/html": [
       "<div>\n",
       "<style scoped>\n",
       "    .dataframe tbody tr th:only-of-type {\n",
       "        vertical-align: middle;\n",
       "    }\n",
       "\n",
       "    .dataframe tbody tr th {\n",
       "        vertical-align: top;\n",
       "    }\n",
       "\n",
       "    .dataframe thead th {\n",
       "        text-align: right;\n",
       "    }\n",
       "</style>\n",
       "<table border=\"1\" class=\"dataframe\">\n",
       "  <thead>\n",
       "    <tr style=\"text-align: right;\">\n",
       "      <th></th>\n",
       "      <th>posts</th>\n",
       "      <th>followers</th>\n",
       "      <th>following</th>\n",
       "      <th>fake</th>\n",
       "      <th>tester</th>\n",
       "      <th>ratio</th>\n",
       "      <th>has_number</th>\n",
       "      <th>ends_number</th>\n",
       "    </tr>\n",
       "  </thead>\n",
       "  <tbody>\n",
       "    <tr>\n",
       "      <th>14202</th>\n",
       "      <td>3</td>\n",
       "      <td>876</td>\n",
       "      <td>7202</td>\n",
       "      <td>0</td>\n",
       "      <td>one</td>\n",
       "      <td>0.121633</td>\n",
       "      <td>1</td>\n",
       "      <td>1</td>\n",
       "    </tr>\n",
       "    <tr>\n",
       "      <th>15214</th>\n",
       "      <td>61</td>\n",
       "      <td>81</td>\n",
       "      <td>5929</td>\n",
       "      <td>0</td>\n",
       "      <td>one</td>\n",
       "      <td>0.013662</td>\n",
       "      <td>1</td>\n",
       "      <td>0</td>\n",
       "    </tr>\n",
       "    <tr>\n",
       "      <th>7839</th>\n",
       "      <td>42</td>\n",
       "      <td>26</td>\n",
       "      <td>326</td>\n",
       "      <td>1</td>\n",
       "      <td>one</td>\n",
       "      <td>0.079755</td>\n",
       "      <td>0</td>\n",
       "      <td>0</td>\n",
       "    </tr>\n",
       "    <tr>\n",
       "      <th>16190</th>\n",
       "      <td>14</td>\n",
       "      <td>48</td>\n",
       "      <td>1454</td>\n",
       "      <td>0</td>\n",
       "      <td>one</td>\n",
       "      <td>0.033012</td>\n",
       "      <td>1</td>\n",
       "      <td>1</td>\n",
       "    </tr>\n",
       "    <tr>\n",
       "      <th>19924</th>\n",
       "      <td>32</td>\n",
       "      <td>207</td>\n",
       "      <td>6556</td>\n",
       "      <td>0</td>\n",
       "      <td>one</td>\n",
       "      <td>0.031574</td>\n",
       "      <td>0</td>\n",
       "      <td>0</td>\n",
       "    </tr>\n",
       "  </tbody>\n",
       "</table>\n",
       "</div>"
      ],
      "text/plain": [
       "       posts  followers  following  fake tester     ratio  has_number  \\\n",
       "14202      3        876       7202     0    one  0.121633           1   \n",
       "15214     61         81       5929     0    one  0.013662           1   \n",
       "7839      42         26        326     1    one  0.079755           0   \n",
       "16190     14         48       1454     0    one  0.033012           1   \n",
       "19924     32        207       6556     0    one  0.031574           0   \n",
       "\n",
       "       ends_number  \n",
       "14202            1  \n",
       "15214            0  \n",
       "7839             0  \n",
       "16190            1  \n",
       "19924            0  "
      ]
     },
     "execution_count": 19,
     "metadata": {},
     "output_type": "execute_result"
    }
   ],
   "source": [
    "labeled_train[cols_to_show_training].head()"
   ]
  },
  {
   "cell_type": "code",
   "execution_count": 21,
   "metadata": {
    "collapsed": true
   },
   "outputs": [],
   "source": [
    "# define labels (this can change -- also this process can be automated to update different feature combinations)\n",
    "X_labels = ['posts', 'followers', 'following', 'ratio', 'has_number', 'ends_number']\n",
    "y_label = 'fake'\n",
    "\n",
    "X = labeled_train[X_labels]\n",
    "y = labeled_train[y_label]"
   ]
  },
  {
   "cell_type": "code",
   "execution_count": 22,
   "metadata": {},
   "outputs": [
    {
     "data": {
      "text/html": [
       "<div>\n",
       "<style scoped>\n",
       "    .dataframe tbody tr th:only-of-type {\n",
       "        vertical-align: middle;\n",
       "    }\n",
       "\n",
       "    .dataframe tbody tr th {\n",
       "        vertical-align: top;\n",
       "    }\n",
       "\n",
       "    .dataframe thead th {\n",
       "        text-align: right;\n",
       "    }\n",
       "</style>\n",
       "<table border=\"1\" class=\"dataframe\">\n",
       "  <thead>\n",
       "    <tr style=\"text-align: right;\">\n",
       "      <th></th>\n",
       "      <th>posts</th>\n",
       "      <th>followers</th>\n",
       "      <th>following</th>\n",
       "      <th>ratio</th>\n",
       "      <th>has_number</th>\n",
       "      <th>ends_number</th>\n",
       "    </tr>\n",
       "  </thead>\n",
       "  <tbody>\n",
       "    <tr>\n",
       "      <th>14202</th>\n",
       "      <td>3</td>\n",
       "      <td>876</td>\n",
       "      <td>7202</td>\n",
       "      <td>0.121633</td>\n",
       "      <td>1</td>\n",
       "      <td>1</td>\n",
       "    </tr>\n",
       "    <tr>\n",
       "      <th>15214</th>\n",
       "      <td>61</td>\n",
       "      <td>81</td>\n",
       "      <td>5929</td>\n",
       "      <td>0.013662</td>\n",
       "      <td>1</td>\n",
       "      <td>0</td>\n",
       "    </tr>\n",
       "    <tr>\n",
       "      <th>7839</th>\n",
       "      <td>42</td>\n",
       "      <td>26</td>\n",
       "      <td>326</td>\n",
       "      <td>0.079755</td>\n",
       "      <td>0</td>\n",
       "      <td>0</td>\n",
       "    </tr>\n",
       "    <tr>\n",
       "      <th>16190</th>\n",
       "      <td>14</td>\n",
       "      <td>48</td>\n",
       "      <td>1454</td>\n",
       "      <td>0.033012</td>\n",
       "      <td>1</td>\n",
       "      <td>1</td>\n",
       "    </tr>\n",
       "    <tr>\n",
       "      <th>19924</th>\n",
       "      <td>32</td>\n",
       "      <td>207</td>\n",
       "      <td>6556</td>\n",
       "      <td>0.031574</td>\n",
       "      <td>0</td>\n",
       "      <td>0</td>\n",
       "    </tr>\n",
       "  </tbody>\n",
       "</table>\n",
       "</div>"
      ],
      "text/plain": [
       "       posts  followers  following     ratio  has_number  ends_number\n",
       "14202      3        876       7202  0.121633           1            1\n",
       "15214     61         81       5929  0.013662           1            0\n",
       "7839      42         26        326  0.079755           0            0\n",
       "16190     14         48       1454  0.033012           1            1\n",
       "19924     32        207       6556  0.031574           0            0"
      ]
     },
     "execution_count": 22,
     "metadata": {},
     "output_type": "execute_result"
    }
   ],
   "source": [
    "X.head()"
   ]
  },
  {
   "cell_type": "markdown",
   "metadata": {},
   "source": [
    "**split training and testing set**\n",
    "\n",
    "Make sure all comparisons are made on the SAME split"
   ]
  },
  {
   "cell_type": "code",
   "execution_count": 23,
   "metadata": {
    "collapsed": true
   },
   "outputs": [],
   "source": [
    "X_train, X_test, y_train, y_test = train_test_split(X, y, random_state=0)"
   ]
  },
  {
   "cell_type": "code",
   "execution_count": 24,
   "metadata": {},
   "outputs": [
    {
     "data": {
      "text/html": [
       "<div>\n",
       "<style scoped>\n",
       "    .dataframe tbody tr th:only-of-type {\n",
       "        vertical-align: middle;\n",
       "    }\n",
       "\n",
       "    .dataframe tbody tr th {\n",
       "        vertical-align: top;\n",
       "    }\n",
       "\n",
       "    .dataframe thead th {\n",
       "        text-align: right;\n",
       "    }\n",
       "</style>\n",
       "<table border=\"1\" class=\"dataframe\">\n",
       "  <thead>\n",
       "    <tr style=\"text-align: right;\">\n",
       "      <th></th>\n",
       "      <th>posts</th>\n",
       "      <th>followers</th>\n",
       "      <th>following</th>\n",
       "      <th>ratio</th>\n",
       "      <th>has_number</th>\n",
       "      <th>ends_number</th>\n",
       "    </tr>\n",
       "  </thead>\n",
       "  <tbody>\n",
       "    <tr>\n",
       "      <th>22504</th>\n",
       "      <td>0</td>\n",
       "      <td>44</td>\n",
       "      <td>6483</td>\n",
       "      <td>0.006787</td>\n",
       "      <td>0</td>\n",
       "      <td>0</td>\n",
       "    </tr>\n",
       "    <tr>\n",
       "      <th>7096</th>\n",
       "      <td>21</td>\n",
       "      <td>18</td>\n",
       "      <td>2026</td>\n",
       "      <td>0.008885</td>\n",
       "      <td>0</td>\n",
       "      <td>0</td>\n",
       "    </tr>\n",
       "    <tr>\n",
       "      <th>21855</th>\n",
       "      <td>2</td>\n",
       "      <td>92</td>\n",
       "      <td>6524</td>\n",
       "      <td>0.014102</td>\n",
       "      <td>0</td>\n",
       "      <td>0</td>\n",
       "    </tr>\n",
       "    <tr>\n",
       "      <th>7025</th>\n",
       "      <td>1</td>\n",
       "      <td>313</td>\n",
       "      <td>7159</td>\n",
       "      <td>0.043721</td>\n",
       "      <td>1</td>\n",
       "      <td>0</td>\n",
       "    </tr>\n",
       "    <tr>\n",
       "      <th>6833</th>\n",
       "      <td>26</td>\n",
       "      <td>41</td>\n",
       "      <td>2226</td>\n",
       "      <td>0.018419</td>\n",
       "      <td>0</td>\n",
       "      <td>0</td>\n",
       "    </tr>\n",
       "  </tbody>\n",
       "</table>\n",
       "</div>"
      ],
      "text/plain": [
       "       posts  followers  following     ratio  has_number  ends_number\n",
       "22504      0         44       6483  0.006787           0            0\n",
       "7096      21         18       2026  0.008885           0            0\n",
       "21855      2         92       6524  0.014102           0            0\n",
       "7025       1        313       7159  0.043721           1            0\n",
       "6833      26         41       2226  0.018419           0            0"
      ]
     },
     "execution_count": 24,
     "metadata": {},
     "output_type": "execute_result"
    }
   ],
   "source": [
    "X_train.head()"
   ]
  },
  {
   "cell_type": "code",
   "execution_count": 25,
   "metadata": {},
   "outputs": [
    {
     "data": {
      "text/plain": [
       "['ratio', 'has_number', 'ends_number']"
      ]
     },
     "execution_count": 25,
     "metadata": {},
     "output_type": "execute_result"
    }
   ],
   "source": [
    "base_feats = ['posts', 'followers', 'following']\n",
    "eng_feats"
   ]
  },
  {
   "cell_type": "markdown",
   "metadata": {},
   "source": [
    "** Create a pipeline function to train & test model, print output **"
   ]
  },
  {
   "cell_type": "code",
   "execution_count": 26,
   "metadata": {
    "collapsed": true
   },
   "outputs": [],
   "source": [
    "def plot_confusion_matrix(cm, classes,\n",
    "                          normalize=False,\n",
    "                          title='Confusion matrix',\n",
    "                          cmap=plt.cm.Blues):\n",
    "    \"\"\"\n",
    "    This function prints and plots the confusion matrix.\n",
    "    Normalization can be applied by setting `normalize=True`.\n",
    "    \"\"\"\n",
    "    if normalize:\n",
    "        cm = cm.astype('float') / cm.sum(axis=1)[:, np.newaxis]\n",
    "        print(\"Normalized confusion matrix\")\n",
    "    else:\n",
    "        #print('Confusion matrix, without normalization')\n",
    "        pass\n",
    "\n",
    "    #print(cm)\n",
    "\n",
    "    plt.imshow(cm, interpolation='nearest', cmap=cmap)\n",
    "    plt.title(title)\n",
    "    plt.colorbar()\n",
    "    tick_marks = np.arange(len(classes))\n",
    "    plt.xticks(tick_marks, classes, rotation=45)\n",
    "    plt.yticks(tick_marks, classes)\n",
    "\n",
    "    fmt = '.2f' if normalize else 'd'\n",
    "    thresh = cm.max() / 2.\n",
    "    for i, j in itertools.product(range(cm.shape[0]), range(cm.shape[1])):\n",
    "        plt.text(j, i, format(cm[i, j], fmt),\n",
    "                 horizontalalignment=\"center\",\n",
    "                 color=\"white\" if cm[i, j] > thresh else \"black\")\n",
    "\n",
    "    plt.ylabel('True label')\n",
    "    plt.xlabel('Predicted label')\n",
    "    plt.tight_layout()"
   ]
  },
  {
   "cell_type": "code",
   "execution_count": 27,
   "metadata": {
    "collapsed": true
   },
   "outputs": [],
   "source": [
    "def evaluate_model(X, y, model_name, random_state=0, confusion=True):\n",
    "    '''Select X features when calling the function\n",
    "    \n",
    "    Add k-fold, report variance and mean?\n",
    "    \n",
    "    Add confusion?\n",
    "    '''\n",
    "    \n",
    "    # create train/test sets\n",
    "    X_train, X_test, y_train, y_test = train_test_split(X, y, random_state=random_state)\n",
    "    \n",
    "    # get model\n",
    "    model = model_name\n",
    "    model.fit(X_train, y_train)\n",
    "    y_predicted = model.predict(X_test)\n",
    "    \n",
    "    # print metrics\n",
    "    #print('--- /// BASE MODEL /// ---')\n",
    "    print('--- Classification Report ---')\n",
    "    print(classification_report(y_test, y_predicted, labels=[0,1], target_names=['Real', 'Fake']))\n",
    "    print('--- Confusion Matrix ---')\n",
    "    print(confusion_matrix(y_test, y_predicted))\n",
    "    \n",
    "    if confusion:\n",
    "        plot_confusion_matrix(confusion_matrix(y_test, y_predicted), classes=['Real', 'Fake'],\n",
    "                      title='Confusion matrix')\n",
    "    else:\n",
    "        pass"
   ]
  },
  {
   "cell_type": "markdown",
   "metadata": {},
   "source": [
    "** Logistic Regression **"
   ]
  },
  {
   "cell_type": "code",
   "execution_count": 28,
   "metadata": {},
   "outputs": [
    {
     "name": "stdout",
     "output_type": "stream",
     "text": [
      "--- Classification Report ---\n",
      "             precision    recall  f1-score   support\n",
      "\n",
      "       Real       0.82      0.30      0.44        30\n",
      "       Fake       0.93      0.99      0.96       263\n",
      "\n",
      "avg / total       0.91      0.92      0.90       293\n",
      "\n",
      "--- Confusion Matrix ---\n",
      "[[  9  21]\n",
      " [  2 261]]\n"
     ]
    },
    {
     "data": {
      "image/png": "[encoded data removed]",
      "text/plain": [
       "<matplotlib.figure.Figure at 0x117378898>"
      ]
     },
     "metadata": {},
     "output_type": "display_data"
    }
   ],
   "source": [
    "evaluate_model(X[base_feats], y, LogisticRegression())"
   ]
  },
  {
   "cell_type": "code",
   "execution_count": 29,
   "metadata": {},
   "outputs": [
    {
     "name": "stdout",
     "output_type": "stream",
     "text": [
      "--- Classification Report ---\n",
      "             precision    recall  f1-score   support\n",
      "\n",
      "       Real       0.85      0.37      0.51        30\n",
      "       Fake       0.93      0.99      0.96       263\n",
      "\n",
      "avg / total       0.92      0.93      0.92       293\n",
      "\n",
      "--- Confusion Matrix ---\n",
      "[[ 11  19]\n",
      " [  2 261]]\n"
     ]
    },
    {
     "data": {
      "image/png": "[encoded data removed]",
      "text/plain": [
       "<matplotlib.figure.Figure at 0x119582908>"
      ]
     },
     "metadata": {},
     "output_type": "display_data"
    }
   ],
   "source": [
    "# using engineed features\n",
    "evaluate_model(X, y, LogisticRegression())"
   ]
  },
  {
   "cell_type": "markdown",
   "metadata": {
    "collapsed": true
   },
   "source": [
    "** Random Forest **\n",
    "\n",
    "+ Original Recall of \"real\" was 0.52\n",
    "+ Updated recall is 0.62! (tester 3)\n",
    "+ Updated recall is 0.67! (all testers)"
   ]
  },
  {
   "cell_type": "code",
   "execution_count": 56,
   "metadata": {},
   "outputs": [
    {
     "name": "stdout",
     "output_type": "stream",
     "text": [
      "--- /// BASE MODEL /// ---\n",
      "--- Classification Report ---\n",
      "             precision    recall  f1-score   support\n",
      "\n",
      "       Real       0.67      0.60      0.63        30\n",
      "       Fake       0.95      0.97      0.96       263\n",
      "\n",
      "avg / total       0.93      0.93      0.93       293\n",
      "\n",
      "--- Confusion Matrix ---\n",
      "[[ 18  12]\n",
      " [  9 254]]\n"
     ]
    },
    {
     "data": {
      "image/png": "[encoded data removed]",
      "text/plain": [
       "<matplotlib.figure.Figure at 0x1240a4ba8>"
      ]
     },
     "metadata": {},
     "output_type": "display_data"
    }
   ],
   "source": [
    "evaluate_model(X[base_feats], y, RandomForestClassifier())"
   ]
  },
  {
   "cell_type": "code",
   "execution_count": 57,
   "metadata": {},
   "outputs": [
    {
     "name": "stdout",
     "output_type": "stream",
     "text": [
      "--- /// BASE MODEL /// ---\n",
      "--- Classification Report ---\n",
      "             precision    recall  f1-score   support\n",
      "\n",
      "       Real       0.72      0.70      0.71        30\n",
      "       Fake       0.97      0.97      0.97       263\n",
      "\n",
      "avg / total       0.94      0.94      0.94       293\n",
      "\n",
      "--- Confusion Matrix ---\n",
      "[[ 21   9]\n",
      " [  8 255]]\n"
     ]
    },
    {
     "data": {
      "image/png": "[encoded data removed]",
      "text/plain": [
       "<matplotlib.figure.Figure at 0x12423c278>"
      ]
     },
     "metadata": {},
     "output_type": "display_data"
    }
   ],
   "source": [
    "evaluate_model(X, y, RandomForestClassifier())"
   ]
  },
  {
   "cell_type": "markdown",
   "metadata": {},
   "source": [
    "** We want near 1.00 recall on real accounts. **"
   ]
  },
  {
   "cell_type": "markdown",
   "metadata": {},
   "source": [
    "**KNN**\n",
    "\n",
    "+ original - 0.42 recall\n",
    "+ updated - 0.63 recall "
   ]
  },
  {
   "cell_type": "code",
   "execution_count": 58,
   "metadata": {},
   "outputs": [
    {
     "name": "stdout",
     "output_type": "stream",
     "text": [
      "--- /// BASE MODEL /// ---\n",
      "--- Classification Report ---\n",
      "             precision    recall  f1-score   support\n",
      "\n",
      "       Real       0.83      0.63      0.72        30\n",
      "       Fake       0.96      0.98      0.97       263\n",
      "\n",
      "avg / total       0.95      0.95      0.95       293\n",
      "\n",
      "--- Confusion Matrix ---\n",
      "[[ 19  11]\n",
      " [  4 259]]\n"
     ]
    },
    {
     "data": {
      "image/png": "[encoded data removed]",
      "text/plain": [
       "<matplotlib.figure.Figure at 0x1243693c8>"
      ]
     },
     "metadata": {},
     "output_type": "display_data"
    }
   ],
   "source": [
    "evaluate_model(X[base_feats], y, KNeighborsClassifier())"
   ]
  },
  {
   "cell_type": "code",
   "execution_count": 59,
   "metadata": {},
   "outputs": [
    {
     "name": "stdout",
     "output_type": "stream",
     "text": [
      "--- /// BASE MODEL /// ---\n",
      "--- Classification Report ---\n",
      "             precision    recall  f1-score   support\n",
      "\n",
      "       Real       0.83      0.63      0.72        30\n",
      "       Fake       0.96      0.98      0.97       263\n",
      "\n",
      "avg / total       0.95      0.95      0.95       293\n",
      "\n",
      "--- Confusion Matrix ---\n",
      "[[ 19  11]\n",
      " [  4 259]]\n"
     ]
    },
    {
     "data": {
      "image/png": "[encoded data removed]",
      "text/plain": [
       "<matplotlib.figure.Figure at 0x1245991d0>"
      ]
     },
     "metadata": {},
     "output_type": "display_data"
    }
   ],
   "source": [
    "evaluate_model(X, y, KNeighborsClassifier())"
   ]
  },
  {
   "cell_type": "markdown",
   "metadata": {},
   "source": [
    "** Additional Models **\n",
    "\n",
    "+ LDA\n",
    "+ Naive Bayes\n",
    "+ Decision Tree\n",
    "+ SVM\n",
    "+ Boosting"
   ]
  },
  {
   "cell_type": "code",
   "execution_count": 71,
   "metadata": {
    "collapsed": true
   },
   "outputs": [],
   "source": [
    "from sklearn.naive_bayes import GaussianNB"
   ]
  },
  {
   "cell_type": "code",
   "execution_count": 75,
   "metadata": {},
   "outputs": [
    {
     "name": "stdout",
     "output_type": "stream",
     "text": [
      "--- \\\\ GAUSSIAN NB CLASSIFIER /// ---\n",
      "--- /// BASE MODEL /// ---\n",
      "--- Classification Report ---\n",
      "             precision    recall  f1-score   support\n",
      "\n",
      "       Real       0.85      0.17      0.28        65\n",
      "       Fake       0.81      0.99      0.89       228\n",
      "\n",
      "avg / total       0.82      0.81      0.75       293\n",
      "\n",
      "--- Confusion Matrix ---\n",
      "[[ 11  54]\n",
      " [  2 226]]\n"
     ]
    }
   ],
   "source": [
    "# Instantiate the Model\n",
    "gnb_base = GaussianNB()\n",
    "\n",
    "# Fit the model\n",
    "gnb_base.fit(X_train[base_feats], y_train)\n",
    "\n",
    "# Predict\n",
    "y_pred_gnb_base = gnb_base.predict(X_test[base_feats])\n",
    "\n",
    "# Compare the results\n",
    "print('--- \\\\\\ GAUSSIAN NB CLASSIFIER /// ---')\n",
    "print('--- /// BASE MODEL /// ---')\n",
    "print('--- Classification Report ---')\n",
    "print(classification_report(y_test, y_pred_gnb_base, labels=[0,1], target_names=['Real', 'Fake']))\n",
    "print('--- Confusion Matrix ---')\n",
    "print(confusion_matrix(y_test, y_pred_gnb_base))"
   ]
  },
  {
   "cell_type": "code",
   "execution_count": 76,
   "metadata": {},
   "outputs": [
    {
     "name": "stdout",
     "output_type": "stream",
     "text": [
      "--- \\\\ GAUSSIAN NB CLASSIFIER /// ---\n",
      "--- /// BASE MODEL /// ---\n",
      "--- Classification Report ---\n",
      "             precision    recall  f1-score   support\n",
      "\n",
      "       Real       0.65      0.60      0.62        65\n",
      "       Fake       0.89      0.91      0.90       228\n",
      "\n",
      "avg / total       0.84      0.84      0.84       293\n",
      "\n",
      "--- Confusion Matrix ---\n",
      "[[ 39  26]\n",
      " [ 21 207]]\n"
     ]
    }
   ],
   "source": [
    "from sklearn.tree import DecisionTreeClassifier\n",
    "\n",
    "# Instantiate the Model\n",
    "dt_base = DecisionTreeClassifier()\n",
    "\n",
    "# Fit the model\n",
    "dt_base.fit(X_train[base_feats], y_train)\n",
    "\n",
    "# Predict\n",
    "y_pred_dt_base = dt_base.predict(X_test[base_feats])\n",
    "\n",
    "# Compare the results\n",
    "print('--- \\\\\\ GAUSSIAN NB CLASSIFIER /// ---')\n",
    "print('--- /// BASE MODEL /// ---')\n",
    "print('--- Classification Report ---')\n",
    "print(classification_report(y_test, y_pred_dt_base, labels=[0,1], target_names=['Real', 'Fake']))\n",
    "print('--- Confusion Matrix ---')\n",
    "print(confusion_matrix(y_test, y_pred_dt_base))"
   ]
  },
  {
   "cell_type": "code",
   "execution_count": 77,
   "metadata": {},
   "outputs": [
    {
     "name": "stdout",
     "output_type": "stream",
     "text": [
      "--- \\\\ dtree CLASSIFIER /// ---\n",
      "--- /// ENGINEERED MODEL /// ---\n",
      "--- Classification Report ---\n",
      "             precision    recall  f1-score   support\n",
      "\n",
      "       Real       0.64      0.55      0.60        65\n",
      "       Fake       0.88      0.91      0.89       228\n",
      "\n",
      "avg / total       0.83      0.83      0.83       293\n",
      "\n",
      "--- Confusion Matrix ---\n",
      "[[ 36  29]\n",
      " [ 20 208]]\n"
     ]
    }
   ],
   "source": [
    "# Instantiate the Model\n",
    "dt_eng = DecisionTreeClassifier()\n",
    "\n",
    "# Fit the model\n",
    "dt_eng.fit(X_train[base_feats+eng_feats], y_train)\n",
    "\n",
    "# Predict\n",
    "y_pred_dt_eng = dt_eng.predict(X_test[base_feats+eng_feats])\n",
    "\n",
    "# Compare the results\n",
    "print('--- \\\\\\ dtree CLASSIFIER /// ---')\n",
    "print('--- /// ENGINEERED MODEL /// ---')\n",
    "print('--- Classification Report ---')\n",
    "print(classification_report(y_test, y_pred_dt_eng, labels=[0,1], target_names=['Real', 'Fake']))\n",
    "print('--- Confusion Matrix ---')\n",
    "print(confusion_matrix(y_test, y_pred_dt_eng))"
   ]
  },
  {
   "cell_type": "markdown",
   "metadata": {},
   "source": [
    "## Add kfold to workflow"
   ]
  },
  {
   "cell_type": "code",
   "execution_count": 79,
   "metadata": {
    "collapsed": true
   },
   "outputs": [],
   "source": [
    "from sklearn.model_selection import KFold"
   ]
  },
  {
   "cell_type": "markdown",
   "metadata": {},
   "source": [
    "## Undersampling\n",
    "\n",
    "+ This might help improve recall\n",
    "+ Under OR over sample is possible"
   ]
  },
  {
   "cell_type": "code",
   "execution_count": 47,
   "metadata": {},
   "outputs": [
    {
     "data": {
      "text/html": [
       "<div>\n",
       "<style scoped>\n",
       "    .dataframe tbody tr th:only-of-type {\n",
       "        vertical-align: middle;\n",
       "    }\n",
       "\n",
       "    .dataframe tbody tr th {\n",
       "        vertical-align: top;\n",
       "    }\n",
       "\n",
       "    .dataframe thead th {\n",
       "        text-align: right;\n",
       "    }\n",
       "</style>\n",
       "<table border=\"1\" class=\"dataframe\">\n",
       "  <thead>\n",
       "    <tr style=\"text-align: right;\">\n",
       "      <th></th>\n",
       "      <th>posts</th>\n",
       "      <th>followers</th>\n",
       "      <th>following</th>\n",
       "      <th>ratio</th>\n",
       "      <th>has_number</th>\n",
       "      <th>ends_number</th>\n",
       "    </tr>\n",
       "  </thead>\n",
       "  <tbody>\n",
       "    <tr>\n",
       "      <th>14202</th>\n",
       "      <td>3</td>\n",
       "      <td>876</td>\n",
       "      <td>7202</td>\n",
       "      <td>0.121633</td>\n",
       "      <td>1</td>\n",
       "      <td>1</td>\n",
       "    </tr>\n",
       "    <tr>\n",
       "      <th>15214</th>\n",
       "      <td>61</td>\n",
       "      <td>81</td>\n",
       "      <td>5929</td>\n",
       "      <td>0.013662</td>\n",
       "      <td>1</td>\n",
       "      <td>0</td>\n",
       "    </tr>\n",
       "  </tbody>\n",
       "</table>\n",
       "</div>"
      ],
      "text/plain": [
       "       posts  followers  following     ratio  has_number  ends_number\n",
       "14202      3        876       7202  0.121633           1            1\n",
       "15214     61         81       5929  0.013662           1            0"
      ]
     },
     "execution_count": 47,
     "metadata": {},
     "output_type": "execute_result"
    }
   ],
   "source": [
    "X.head(2)"
   ]
  },
  {
   "cell_type": "code",
   "execution_count": 11,
   "metadata": {
    "collapsed": true
   },
   "outputs": [],
   "source": [
    "from imblearn.over_sampling import RandomOverSampler\n",
    "from imblearn.under_sampling import RandomUnderSampler"
   ]
  },
  {
   "cell_type": "markdown",
   "metadata": {},
   "source": [
    "** Undersampling **\n",
    "\n",
    "TOO SMALL TRY OVERSAMPLING!"
   ]
  },
  {
   "cell_type": "code",
   "execution_count": 16,
   "metadata": {},
   "outputs": [
    {
     "data": {
      "text/plain": [
       "10"
      ]
     },
     "execution_count": 16,
     "metadata": {},
     "output_type": "execute_result"
    }
   ],
   "source": [
    "# Instantiate and fit undersample model\n",
    "rus = RandomUnderSampler(random_state=0)\n",
    "X_rus, y_rus = rus.fit_sample(X, y)\n",
    "\n",
    "# split train and test sets or perform kfold cross validation\n",
    "#X_rus_train, X_rus_test, y_rus_train, y_rus_test = train_test_split(X_rus, y_rus, random_state=0)\n",
    "skf = StratifiedKFold(n_splits=10, random_state=0)\n",
    "skf.get_n_splits(X_rus, y_rus)"
   ]
  },
  {
   "cell_type": "code",
   "execution_count": 17,
   "metadata": {},
   "outputs": [
    {
     "data": {
      "text/plain": [
       "(264, 6)"
      ]
     },
     "execution_count": 17,
     "metadata": {},
     "output_type": "execute_result"
    }
   ],
   "source": [
    "X_rus.shapes"
   ]
  },
  {
   "cell_type": "code",
   "execution_count": 88,
   "metadata": {},
   "outputs": [
    {
     "name": "stdout",
     "output_type": "stream",
     "text": [
      "LOGISTIC REGRESSION\n",
      "--- Fold 1 ---\n",
      "             precision    recall  f1-score   support\n",
      "\n",
      "       Real       0.88      0.50      0.64        14\n",
      "       Fake       0.65      0.93      0.76        14\n",
      "\n",
      "avg / total       0.76      0.71      0.70        28\n",
      "\n",
      "[[ 7  7]\n",
      " [ 1 13]]\n",
      "--- Fold 2 ---\n",
      "             precision    recall  f1-score   support\n",
      "\n",
      "       Real       1.00      1.00      1.00        14\n",
      "       Fake       1.00      1.00      1.00        14\n",
      "\n",
      "avg / total       1.00      1.00      1.00        28\n",
      "\n",
      "[[14  0]\n",
      " [ 0 14]]\n",
      "--- Fold 3 ---\n",
      "             precision    recall  f1-score   support\n",
      "\n",
      "       Real       0.86      0.92      0.89        13\n",
      "       Fake       0.92      0.85      0.88        13\n",
      "\n",
      "avg / total       0.89      0.88      0.88        26\n",
      "\n",
      "[[12  1]\n",
      " [ 2 11]]\n",
      "--- Fold 4 ---\n",
      "             precision    recall  f1-score   support\n",
      "\n",
      "       Real       1.00      1.00      1.00        13\n",
      "       Fake       1.00      1.00      1.00        13\n",
      "\n",
      "avg / total       1.00      1.00      1.00        26\n",
      "\n",
      "[[13  0]\n",
      " [ 0 13]]\n",
      "--- Fold 5 ---\n",
      "             precision    recall  f1-score   support\n",
      "\n",
      "       Real       0.81      1.00      0.90        13\n",
      "       Fake       1.00      0.77      0.87        13\n",
      "\n",
      "avg / total       0.91      0.88      0.88        26\n",
      "\n",
      "[[13  0]\n",
      " [ 3 10]]\n",
      "--- Fold 6 ---\n",
      "             precision    recall  f1-score   support\n",
      "\n",
      "       Real       0.69      0.85      0.76        13\n",
      "       Fake       0.80      0.62      0.70        13\n",
      "\n",
      "avg / total       0.74      0.73      0.73        26\n",
      "\n",
      "[[11  2]\n",
      " [ 5  8]]\n",
      "--- Fold 7 ---\n",
      "             precision    recall  f1-score   support\n",
      "\n",
      "       Real       0.92      0.92      0.92        13\n",
      "       Fake       0.92      0.92      0.92        13\n",
      "\n",
      "avg / total       0.92      0.92      0.92        26\n",
      "\n",
      "[[12  1]\n",
      " [ 1 12]]\n",
      "--- Fold 8 ---\n",
      "             precision    recall  f1-score   support\n",
      "\n",
      "       Real       0.85      0.85      0.85        13\n",
      "       Fake       0.85      0.85      0.85        13\n",
      "\n",
      "avg / total       0.85      0.85      0.85        26\n",
      "\n",
      "[[11  2]\n",
      " [ 2 11]]\n",
      "--- Fold 9 ---\n",
      "             precision    recall  f1-score   support\n",
      "\n",
      "       Real       0.79      0.85      0.81        13\n",
      "       Fake       0.83      0.77      0.80        13\n",
      "\n",
      "avg / total       0.81      0.81      0.81        26\n",
      "\n",
      "[[11  2]\n",
      " [ 3 10]]\n",
      "--- Fold 10 ---\n",
      "             precision    recall  f1-score   support\n",
      "\n",
      "       Real       0.90      0.69      0.78        13\n",
      "       Fake       0.75      0.92      0.83        13\n",
      "\n",
      "avg / total       0.83      0.81      0.81        26\n",
      "\n",
      "[[ 9  4]\n",
      " [ 1 12]]\n"
     ]
    }
   ],
   "source": [
    "print('LOGISTIC REGRESSION')\n",
    "for k, (train, test) in enumerate(skf.split(X_rus, y_rus)):\n",
    "    lr_kfold = LogisticRegression()\n",
    "    lr_kfold.fit(X_rus[train], y_rus[train])\n",
    "    y_pred_kfold = lr_kfold.predict(X_rus[test])\n",
    "    print('--- Fold {} ---'.format(k+1))\n",
    "    print(classification_report(y_rus[test], y_pred_kfold, labels=[0,1], target_names=['Real', 'Fake']))\n",
    "    print(confusion_matrix(y_rus[test], y_pred_kfold))"
   ]
  },
  {
   "cell_type": "code",
   "execution_count": 89,
   "metadata": {},
   "outputs": [
    {
     "name": "stdout",
     "output_type": "stream",
     "text": [
      "RANDOM FOREST CLASSIFIER\n",
      "--- Fold 1 ---\n",
      "             precision    recall  f1-score   support\n",
      "\n",
      "       Real       1.00      0.57      0.73        14\n",
      "       Fake       0.70      1.00      0.82        14\n",
      "\n",
      "avg / total       0.85      0.79      0.78        28\n",
      "\n",
      "[[ 8  6]\n",
      " [ 0 14]]\n",
      "--- Fold 2 ---\n",
      "             precision    recall  f1-score   support\n",
      "\n",
      "       Real       0.93      1.00      0.97        14\n",
      "       Fake       1.00      0.93      0.96        14\n",
      "\n",
      "avg / total       0.97      0.96      0.96        28\n",
      "\n",
      "[[14  0]\n",
      " [ 1 13]]\n",
      "--- Fold 3 ---\n",
      "             precision    recall  f1-score   support\n",
      "\n",
      "       Real       0.87      1.00      0.93        13\n",
      "       Fake       1.00      0.85      0.92        13\n",
      "\n",
      "avg / total       0.93      0.92      0.92        26\n",
      "\n",
      "[[13  0]\n",
      " [ 2 11]]\n",
      "--- Fold 4 ---\n",
      "             precision    recall  f1-score   support\n",
      "\n",
      "       Real       0.87      1.00      0.93        13\n",
      "       Fake       1.00      0.85      0.92        13\n",
      "\n",
      "avg / total       0.93      0.92      0.92        26\n",
      "\n",
      "[[13  0]\n",
      " [ 2 11]]\n",
      "--- Fold 5 ---\n",
      "             precision    recall  f1-score   support\n",
      "\n",
      "       Real       0.93      1.00      0.96        13\n",
      "       Fake       1.00      0.92      0.96        13\n",
      "\n",
      "avg / total       0.96      0.96      0.96        26\n",
      "\n",
      "[[13  0]\n",
      " [ 1 12]]\n",
      "--- Fold 6 ---\n",
      "             precision    recall  f1-score   support\n",
      "\n",
      "       Real       0.75      0.92      0.83        13\n",
      "       Fake       0.90      0.69      0.78        13\n",
      "\n",
      "avg / total       0.83      0.81      0.81        26\n",
      "\n",
      "[[12  1]\n",
      " [ 4  9]]\n",
      "--- Fold 7 ---\n",
      "             precision    recall  f1-score   support\n",
      "\n",
      "       Real       0.87      1.00      0.93        13\n",
      "       Fake       1.00      0.85      0.92        13\n",
      "\n",
      "avg / total       0.93      0.92      0.92        26\n",
      "\n",
      "[[13  0]\n",
      " [ 2 11]]\n",
      "--- Fold 8 ---\n",
      "             precision    recall  f1-score   support\n",
      "\n",
      "       Real       0.92      0.92      0.92        13\n",
      "       Fake       0.92      0.92      0.92        13\n",
      "\n",
      "avg / total       0.92      0.92      0.92        26\n",
      "\n",
      "[[12  1]\n",
      " [ 1 12]]\n",
      "--- Fold 9 ---\n",
      "             precision    recall  f1-score   support\n",
      "\n",
      "       Real       0.91      0.77      0.83        13\n",
      "       Fake       0.80      0.92      0.86        13\n",
      "\n",
      "avg / total       0.85      0.85      0.85        26\n",
      "\n",
      "[[10  3]\n",
      " [ 1 12]]\n",
      "--- Fold 10 ---\n",
      "             precision    recall  f1-score   support\n",
      "\n",
      "       Real       0.92      0.85      0.88        13\n",
      "       Fake       0.86      0.92      0.89        13\n",
      "\n",
      "avg / total       0.89      0.88      0.88        26\n",
      "\n",
      "[[11  2]\n",
      " [ 1 12]]\n"
     ]
    }
   ],
   "source": [
    "print('RANDOM FOREST CLASSIFIER')\n",
    "for k, (train, test) in enumerate(skf.split(X_rus, y_rus)):\n",
    "    rfc_kfold = RandomForestClassifier()\n",
    "    rfc_kfold.fit(X_rus[train], y_rus[train])\n",
    "    y_pred_kfold = rfc_kfold.predict(X_rus[test])\n",
    "    print('--- Fold {} ---'.format(k+1))\n",
    "    print(classification_report(y_rus[test], y_pred_kfold, labels=[0,1], target_names=['Real', 'Fake']))\n",
    "    print(confusion_matrix(y_rus[test], y_pred_kfold))"
   ]
  },
  {
   "cell_type": "markdown",
   "metadata": {},
   "source": [
    "** Oversampling **\n",
    "\n",
    "LOOKS GOOD! "
   ]
  },
  {
   "cell_type": "code",
   "execution_count": 18,
   "metadata": {},
   "outputs": [
    {
     "data": {
      "text/plain": [
       "(2074, 6)"
      ]
     },
     "execution_count": 18,
     "metadata": {},
     "output_type": "execute_result"
    }
   ],
   "source": [
    "ros = RandomOverSampler(random_state=0)\n",
    "X_ros, y_ros = ros.fit_sample(X, y)\n",
    "X_ros.shape"
   ]
  },
  {
   "cell_type": "code",
   "execution_count": 20,
   "metadata": {
    "collapsed": true
   },
   "outputs": [],
   "source": [
    "X_ros_train, X_ros_test, y_ros_train, y_ros_test = train_test_split(X_ros, y_ros, random_state=0)"
   ]
  },
  {
   "cell_type": "code",
   "execution_count": 21,
   "metadata": {},
   "outputs": [
    {
     "name": "stdout",
     "output_type": "stream",
     "text": [
      "LOGISTIC REGRESSION WITH OVERSAMPLING\n",
      "             precision    recall  f1-score   support\n",
      "\n",
      "       Real       0.88      0.88      0.88       257\n",
      "       Fake       0.89      0.88      0.88       262\n",
      "\n",
      "avg / total       0.88      0.88      0.88       519\n",
      "\n",
      "[[227  30]\n",
      " [ 31 231]]\n"
     ]
    }
   ],
   "source": [
    "logreg_ros = LogisticRegression()\n",
    "logreg_ros.fit(X_ros_train, y_ros_train)\n",
    "y_pred_logreg_ros_base = logreg_ros.predict(X_ros_test)\n",
    "print('LOGISTIC REGRESSION WITH OVERSAMPLING')\n",
    "print(classification_report(y_ros_test, y_pred_logreg_ros_base, labels=[0,1], target_names=['Real', 'Fake']))\n",
    "print(confusion_matrix(y_ros_test, y_pred_logreg_ros_base))"
   ]
  },
  {
   "cell_type": "code",
   "execution_count": 22,
   "metadata": {},
   "outputs": [
    {
     "name": "stdout",
     "output_type": "stream",
     "text": [
      "RANDOM FOREST CLASSIFIER WITH OVERSAMPLING\n",
      "             precision    recall  f1-score   support\n",
      "\n",
      "       Real       0.96      1.00      0.98       257\n",
      "       Fake       1.00      0.96      0.98       262\n",
      "\n",
      "avg / total       0.98      0.98      0.98       519\n",
      "\n",
      "[[257   0]\n",
      " [ 10 252]]\n"
     ]
    }
   ],
   "source": [
    "rfc_ros = RandomForestClassifier()\n",
    "rfc_ros.fit(X_ros_train, y_ros_train)\n",
    "y_pred_rfc_ros_base = rfc_ros.predict(X_ros_test)\n",
    "print('RANDOM FOREST CLASSIFIER WITH OVERSAMPLING')\n",
    "print(classification_report(y_ros_test, y_pred_rfc_ros_base, labels=[0,1], target_names=['Real', 'Fake']))\n",
    "print(confusion_matrix(y_ros_test, y_pred_rfc_ros_base))"
   ]
  },
  {
   "cell_type": "markdown",
   "metadata": {},
   "source": [
    "## Perform k-fold cross validation on oversampled dataset"
   ]
  },
  {
   "cell_type": "code",
   "execution_count": 23,
   "metadata": {},
   "outputs": [
    {
     "data": {
      "text/plain": [
       "10"
      ]
     },
     "execution_count": 23,
     "metadata": {},
     "output_type": "execute_result"
    }
   ],
   "source": [
    "from sklearn.model_selection import StratifiedKFold\n",
    "skf = StratifiedKFold(n_splits=10, random_state=0)\n",
    "skf.get_n_splits(X_ros, y_ros)"
   ]
  },
  {
   "cell_type": "code",
   "execution_count": 24,
   "metadata": {},
   "outputs": [
    {
     "name": "stdout",
     "output_type": "stream",
     "text": [
      "--- Fold 1 ---\n",
      "             precision    recall  f1-score   support\n",
      "\n",
      "       Real       0.87      0.87      0.87       104\n",
      "       Fake       0.87      0.88      0.87       104\n",
      "\n",
      "avg / total       0.87      0.87      0.87       208\n",
      "\n",
      "[[90 14]\n",
      " [13 91]]\n",
      "--- Fold 2 ---\n",
      "             precision    recall  f1-score   support\n",
      "\n",
      "       Real       0.89      0.89      0.89       104\n",
      "       Fake       0.89      0.89      0.89       104\n",
      "\n",
      "avg / total       0.89      0.89      0.89       208\n",
      "\n",
      "[[93 11]\n",
      " [11 93]]\n",
      "--- Fold 3 ---\n",
      "             precision    recall  f1-score   support\n",
      "\n",
      "       Real       0.83      0.88      0.85       104\n",
      "       Fake       0.87      0.82      0.84       104\n",
      "\n",
      "avg / total       0.85      0.85      0.85       208\n",
      "\n",
      "[[91 13]\n",
      " [19 85]]\n",
      "--- Fold 4 ---\n",
      "             precision    recall  f1-score   support\n",
      "\n",
      "       Real       0.88      0.88      0.88       104\n",
      "       Fake       0.88      0.88      0.88       104\n",
      "\n",
      "avg / total       0.88      0.88      0.88       208\n",
      "\n",
      "[[91 13]\n",
      " [12 92]]\n",
      "--- Fold 5 ---\n",
      "             precision    recall  f1-score   support\n",
      "\n",
      "       Real       0.86      0.90      0.88       104\n",
      "       Fake       0.90      0.86      0.88       104\n",
      "\n",
      "avg / total       0.88      0.88      0.88       208\n",
      "\n",
      "[[94 10]\n",
      " [15 89]]\n",
      "--- Fold 6 ---\n",
      "             precision    recall  f1-score   support\n",
      "\n",
      "       Real       0.87      0.90      0.89       104\n",
      "       Fake       0.90      0.87      0.88       104\n",
      "\n",
      "avg / total       0.89      0.88      0.88       208\n",
      "\n",
      "[[94 10]\n",
      " [14 90]]\n",
      "--- Fold 7 ---\n",
      "             precision    recall  f1-score   support\n",
      "\n",
      "       Real       0.89      0.86      0.87       104\n",
      "       Fake       0.86      0.89      0.88       104\n",
      "\n",
      "avg / total       0.88      0.88      0.87       208\n",
      "\n",
      "[[89 15]\n",
      " [11 93]]\n",
      "--- Fold 8 ---\n",
      "             precision    recall  f1-score   support\n",
      "\n",
      "       Real       0.84      0.88      0.86       103\n",
      "       Fake       0.88      0.83      0.86       103\n",
      "\n",
      "avg / total       0.86      0.86      0.86       206\n",
      "\n",
      "[[91 12]\n",
      " [17 86]]\n",
      "--- Fold 9 ---\n",
      "             precision    recall  f1-score   support\n",
      "\n",
      "       Real       0.83      0.86      0.85       103\n",
      "       Fake       0.86      0.83      0.84       103\n",
      "\n",
      "avg / total       0.85      0.84      0.84       206\n",
      "\n",
      "[[89 14]\n",
      " [18 85]]\n",
      "--- Fold 10 ---\n",
      "             precision    recall  f1-score   support\n",
      "\n",
      "       Real       0.90      0.85      0.88       103\n",
      "       Fake       0.86      0.90      0.88       103\n",
      "\n",
      "avg / total       0.88      0.88      0.88       206\n",
      "\n",
      "[[88 15]\n",
      " [10 93]]\n"
     ]
    }
   ],
   "source": [
    "for k, (train, test) in enumerate(skf.split(X_ros, y_ros)):\n",
    "    lr_kfold = LogisticRegression()\n",
    "    lr_kfold.fit(X_ros[train], y_ros[train])\n",
    "    y_pred_kfold = lr_kfold.predict(X_ros[test])\n",
    "    print('--- Fold {} ---'.format(k+1))\n",
    "    print(classification_report(y_ros[test], y_pred_kfold, labels=[0,1], target_names=['Real', 'Fake']))\n",
    "    print(confusion_matrix(y_ros[test], y_pred_kfold))"
   ]
  },
  {
   "cell_type": "code",
   "execution_count": 25,
   "metadata": {},
   "outputs": [
    {
     "name": "stdout",
     "output_type": "stream",
     "text": [
      "--- Fold 1 ---\n",
      "             precision    recall  f1-score   support\n",
      "\n",
      "       Real       0.99      1.00      1.00       104\n",
      "       Fake       1.00      0.99      1.00       104\n",
      "\n",
      "avg / total       1.00      1.00      1.00       208\n",
      "\n",
      "[[104   0]\n",
      " [  1 103]]\n",
      "--- Fold 2 ---\n",
      "             precision    recall  f1-score   support\n",
      "\n",
      "       Real       0.99      1.00      1.00       104\n",
      "       Fake       1.00      0.99      1.00       104\n",
      "\n",
      "avg / total       1.00      1.00      1.00       208\n",
      "\n",
      "[[104   0]\n",
      " [  1 103]]\n",
      "--- Fold 3 ---\n",
      "             precision    recall  f1-score   support\n",
      "\n",
      "       Real       0.96      1.00      0.98       104\n",
      "       Fake       1.00      0.96      0.98       104\n",
      "\n",
      "avg / total       0.98      0.98      0.98       208\n",
      "\n",
      "[[104   0]\n",
      " [  4 100]]\n",
      "--- Fold 4 ---\n",
      "             precision    recall  f1-score   support\n",
      "\n",
      "       Real       0.96      1.00      0.98       104\n",
      "       Fake       1.00      0.96      0.98       104\n",
      "\n",
      "avg / total       0.98      0.98      0.98       208\n",
      "\n",
      "[[104   0]\n",
      " [  4 100]]\n",
      "--- Fold 5 ---\n",
      "             precision    recall  f1-score   support\n",
      "\n",
      "       Real       0.95      1.00      0.97       104\n",
      "       Fake       1.00      0.94      0.97       104\n",
      "\n",
      "avg / total       0.97      0.97      0.97       208\n",
      "\n",
      "[[104   0]\n",
      " [  6  98]]\n",
      "--- Fold 6 ---\n",
      "             precision    recall  f1-score   support\n",
      "\n",
      "       Real       0.95      1.00      0.98       104\n",
      "       Fake       1.00      0.95      0.98       104\n",
      "\n",
      "avg / total       0.98      0.98      0.98       208\n",
      "\n",
      "[[104   0]\n",
      " [  5  99]]\n",
      "--- Fold 7 ---\n",
      "             precision    recall  f1-score   support\n",
      "\n",
      "       Real       0.99      1.00      1.00       104\n",
      "       Fake       1.00      0.99      1.00       104\n",
      "\n",
      "avg / total       1.00      1.00      1.00       208\n",
      "\n",
      "[[104   0]\n",
      " [  1 103]]\n",
      "--- Fold 8 ---\n",
      "             precision    recall  f1-score   support\n",
      "\n",
      "       Real       0.96      1.00      0.98       103\n",
      "       Fake       1.00      0.96      0.98       103\n",
      "\n",
      "avg / total       0.98      0.98      0.98       206\n",
      "\n",
      "[[103   0]\n",
      " [  4  99]]\n",
      "--- Fold 9 ---\n",
      "             precision    recall  f1-score   support\n",
      "\n",
      "       Real       0.91      1.00      0.95       103\n",
      "       Fake       1.00      0.90      0.95       103\n",
      "\n",
      "avg / total       0.96      0.95      0.95       206\n",
      "\n",
      "[[103   0]\n",
      " [ 10  93]]\n",
      "--- Fold 10 ---\n",
      "             precision    recall  f1-score   support\n",
      "\n",
      "       Real       0.94      1.00      0.97       103\n",
      "       Fake       1.00      0.94      0.97       103\n",
      "\n",
      "avg / total       0.97      0.97      0.97       206\n",
      "\n",
      "[[103   0]\n",
      " [  6  97]]\n"
     ]
    }
   ],
   "source": [
    "for k, (train, test) in enumerate(skf.split(X_ros, y_ros)):\n",
    "    rfc_kfold = RandomForestClassifier()\n",
    "    rfc_kfold.fit(X_ros[train], y_ros[train])\n",
    "    y_pred_kfold = rfc_kfold.predict(X_ros[test])\n",
    "    print('--- Fold {} ---'.format(k+1))\n",
    "    print(classification_report(y_ros[test], y_pred_kfold, labels=[0,1], target_names=['Real', 'Fake']))\n",
    "    print(confusion_matrix(y_ros[test], y_pred_kfold))"
   ]
  },
  {
   "cell_type": "markdown",
   "metadata": {},
   "source": [
    "** Oversample comparing regular and engineered features **"
   ]
  },
  {
   "cell_type": "code",
   "execution_count": 26,
   "metadata": {},
   "outputs": [
    {
     "name": "stdout",
     "output_type": "stream",
     "text": [
      "RANDOM FOREST CLASSIFIER\n",
      "--- Fold 1 ---\n",
      "- Base Features -\n",
      "             precision    recall  f1-score   support\n",
      "\n",
      "       Real       0.98      1.00      0.99       104\n",
      "       Fake       1.00      0.98      0.99       104\n",
      "\n",
      "avg / total       0.99      0.99      0.99       208\n",
      "\n",
      "[[104   0]\n",
      " [  2 102]]\n",
      "- Engineered Features -\n",
      "             precision    recall  f1-score   support\n",
      "\n",
      "       Real       1.00      1.00      1.00       104\n",
      "       Fake       1.00      1.00      1.00       104\n",
      "\n",
      "avg / total       1.00      1.00      1.00       208\n",
      "\n",
      "[[104   0]\n",
      " [  0 104]]\n",
      "--- Fold 2 ---\n",
      "- Base Features -\n",
      "             precision    recall  f1-score   support\n",
      "\n",
      "       Real       0.97      1.00      0.99       104\n",
      "       Fake       1.00      0.97      0.99       104\n",
      "\n",
      "avg / total       0.99      0.99      0.99       208\n",
      "\n",
      "[[104   0]\n",
      " [  3 101]]\n",
      "- Engineered Features -\n",
      "             precision    recall  f1-score   support\n",
      "\n",
      "       Real       0.97      1.00      0.99       104\n",
      "       Fake       1.00      0.97      0.99       104\n",
      "\n",
      "avg / total       0.99      0.99      0.99       208\n",
      "\n",
      "[[104   0]\n",
      " [  3 101]]\n",
      "--- Fold 3 ---\n",
      "- Base Features -\n",
      "             precision    recall  f1-score   support\n",
      "\n",
      "       Real       0.95      1.00      0.97       104\n",
      "       Fake       1.00      0.94      0.97       104\n",
      "\n",
      "avg / total       0.97      0.97      0.97       208\n",
      "\n",
      "[[104   0]\n",
      " [  6  98]]\n",
      "- Engineered Features -\n",
      "             precision    recall  f1-score   support\n",
      "\n",
      "       Real       0.95      1.00      0.97       104\n",
      "       Fake       1.00      0.94      0.97       104\n",
      "\n",
      "avg / total       0.97      0.97      0.97       208\n",
      "\n",
      "[[104   0]\n",
      " [  6  98]]\n",
      "--- Fold 4 ---\n",
      "- Base Features -\n",
      "             precision    recall  f1-score   support\n",
      "\n",
      "       Real       0.95      1.00      0.98       104\n",
      "       Fake       1.00      0.95      0.98       104\n",
      "\n",
      "avg / total       0.98      0.98      0.98       208\n",
      "\n",
      "[[104   0]\n",
      " [  5  99]]\n",
      "- Engineered Features -\n",
      "             precision    recall  f1-score   support\n",
      "\n",
      "       Real       0.95      1.00      0.98       104\n",
      "       Fake       1.00      0.95      0.98       104\n",
      "\n",
      "avg / total       0.98      0.98      0.98       208\n",
      "\n",
      "[[104   0]\n",
      " [  5  99]]\n",
      "--- Fold 5 ---\n",
      "- Base Features -\n",
      "             precision    recall  f1-score   support\n",
      "\n",
      "       Real       0.94      1.00      0.97       104\n",
      "       Fake       1.00      0.93      0.97       104\n",
      "\n",
      "avg / total       0.97      0.97      0.97       208\n",
      "\n",
      "[[104   0]\n",
      " [  7  97]]\n",
      "- Engineered Features -\n",
      "             precision    recall  f1-score   support\n",
      "\n",
      "       Real       0.94      1.00      0.97       104\n",
      "       Fake       1.00      0.93      0.97       104\n",
      "\n",
      "avg / total       0.97      0.97      0.97       208\n",
      "\n",
      "[[104   0]\n",
      " [  7  97]]\n",
      "--- Fold 6 ---\n",
      "- Base Features -\n",
      "             precision    recall  f1-score   support\n",
      "\n",
      "       Real       0.95      1.00      0.98       104\n",
      "       Fake       1.00      0.95      0.98       104\n",
      "\n",
      "avg / total       0.98      0.98      0.98       208\n",
      "\n",
      "[[104   0]\n",
      " [  5  99]]\n",
      "- Engineered Features -\n",
      "             precision    recall  f1-score   support\n",
      "\n",
      "       Real       0.95      1.00      0.98       104\n",
      "       Fake       1.00      0.95      0.98       104\n",
      "\n",
      "avg / total       0.98      0.98      0.98       208\n",
      "\n",
      "[[104   0]\n",
      " [  5  99]]\n",
      "--- Fold 7 ---\n",
      "- Base Features -\n",
      "             precision    recall  f1-score   support\n",
      "\n",
      "       Real       0.99      1.00      1.00       104\n",
      "       Fake       1.00      0.99      1.00       104\n",
      "\n",
      "avg / total       1.00      1.00      1.00       208\n",
      "\n",
      "[[104   0]\n",
      " [  1 103]]\n",
      "- Engineered Features -\n",
      "             precision    recall  f1-score   support\n",
      "\n",
      "       Real       0.99      1.00      1.00       104\n",
      "       Fake       1.00      0.99      1.00       104\n",
      "\n",
      "avg / total       1.00      1.00      1.00       208\n",
      "\n",
      "[[104   0]\n",
      " [  1 103]]\n",
      "--- Fold 8 ---\n",
      "- Base Features -\n",
      "             precision    recall  f1-score   support\n",
      "\n",
      "       Real       0.95      1.00      0.98       103\n",
      "       Fake       1.00      0.95      0.98       103\n",
      "\n",
      "avg / total       0.98      0.98      0.98       206\n",
      "\n",
      "[[103   0]\n",
      " [  5  98]]\n",
      "- Engineered Features -\n",
      "             precision    recall  f1-score   support\n",
      "\n",
      "       Real       0.97      1.00      0.99       103\n",
      "       Fake       1.00      0.97      0.99       103\n",
      "\n",
      "avg / total       0.99      0.99      0.99       206\n",
      "\n",
      "[[103   0]\n",
      " [  3 100]]\n",
      "--- Fold 9 ---\n",
      "- Base Features -\n",
      "             precision    recall  f1-score   support\n",
      "\n",
      "       Real       0.90      1.00      0.95       103\n",
      "       Fake       1.00      0.89      0.94       103\n",
      "\n",
      "avg / total       0.95      0.95      0.95       206\n",
      "\n",
      "[[103   0]\n",
      " [ 11  92]]\n",
      "- Engineered Features -\n",
      "             precision    recall  f1-score   support\n",
      "\n",
      "       Real       0.93      1.00      0.96       103\n",
      "       Fake       1.00      0.92      0.96       103\n",
      "\n",
      "avg / total       0.96      0.96      0.96       206\n",
      "\n",
      "[[103   0]\n",
      " [  8  95]]\n",
      "--- Fold 10 ---\n",
      "- Base Features -\n",
      "             precision    recall  f1-score   support\n",
      "\n",
      "       Real       0.95      1.00      0.98       103\n",
      "       Fake       1.00      0.95      0.98       103\n",
      "\n",
      "avg / total       0.98      0.98      0.98       206\n",
      "\n",
      "[[103   0]\n",
      " [  5  98]]\n",
      "- Engineered Features -\n",
      "             precision    recall  f1-score   support\n",
      "\n",
      "       Real       0.95      1.00      0.98       103\n",
      "       Fake       1.00      0.95      0.98       103\n",
      "\n",
      "avg / total       0.98      0.98      0.98       206\n",
      "\n",
      "[[103   0]\n",
      " [  5  98]]\n"
     ]
    }
   ],
   "source": [
    "# Instantiate and fit undersample model\n",
    "ros = RandomOverSampler(random_state=0)\n",
    "X_ros, y_ros = ros.fit_sample(X, y)\n",
    "\n",
    "# split train and test sets or perform kfold cross validation\n",
    "#X_rus_train, X_rus_test, y_rus_train, y_rus_test = train_test_split(X_rus, y_rus, random_state=0)\n",
    "skf = StratifiedKFold(n_splits=10, random_state=0)\n",
    "skf.get_n_splits(X_ros, y_ros)\n",
    "\n",
    "# Test\n",
    "# X_rus[test][:,0:3] -- select only base features\n",
    "\n",
    "print('RANDOM FOREST CLASSIFIER')\n",
    "\n",
    "for k, (train, test) in enumerate(skf.split(X_ros, y_ros)):\n",
    "    \n",
    "    print('--- Fold {} ---'.format(k+1))\n",
    "        \n",
    "    # base \n",
    "    print('- Base Features -')\n",
    "    rfc_kf_base = RandomForestClassifier()\n",
    "    rfc_kf_base.fit(X_ros[train][:,0:3], y_ros[train])\n",
    "    y_kf_base = rfc_kf_base.predict(X_ros[test][:,0:3])\n",
    "    \n",
    "    print(classification_report(y_ros[test], y_kf_base, labels=[0,1], target_names=['Real', 'Fake']))\n",
    "    print(confusion_matrix(y_ros[test], y_kf_base))\n",
    "    \n",
    "    # engineered\n",
    "    print('- Engineered Features -')\n",
    "    rfc_kf_eng = RandomForestClassifier()\n",
    "    rfc_kf_eng.fit(X_ros[train], y_ros[train])\n",
    "    y_kf_eng = rfc_kf_eng.predict(X_ros[test])\n",
    "    \n",
    "    print(classification_report(y_ros[test], y_kf_eng, labels=[0,1], target_names=['Real', 'Fake']))\n",
    "    print(confusion_matrix(y_ros[test], y_kf_eng))"
   ]
  },
  {
   "cell_type": "code",
   "execution_count": 30,
   "metadata": {},
   "outputs": [
    {
     "name": "stdout",
     "output_type": "stream",
     "text": [
      "Set     Samples     Fakes\n",
      "Test:      1868       934\n",
      "Training:   206       103\n"
     ]
    }
   ],
   "source": [
    "print('Set     Samples     Fakes')\n",
    "print('Test:     ', len(y_ros[train]), '     ',sum(y_ros[train]))\n",
    "print('Training:  ', len(y_ros[test]), '     ' ,sum(y_ros[test]))"
   ]
  },
  {
   "cell_type": "markdown",
   "metadata": {},
   "source": [
    "## Training final model on full oversampled dataset\n",
    "\n",
    "+ Base feature model\n",
    "+ Engineered feature model"
   ]
  },
  {
   "cell_type": "code",
   "execution_count": 33,
   "metadata": {},
   "outputs": [
    {
     "data": {
      "text/plain": [
       "RandomForestClassifier(bootstrap=True, class_weight=None, criterion='gini',\n",
       "            max_depth=None, max_features='auto', max_leaf_nodes=None,\n",
       "            min_impurity_decrease=0.0, min_impurity_split=None,\n",
       "            min_samples_leaf=1, min_samples_split=2,\n",
       "            min_weight_fraction_leaf=0.0, n_estimators=10, n_jobs=1,\n",
       "            oob_score=False, random_state=None, verbose=0,\n",
       "            warm_start=False)"
      ]
     },
     "execution_count": 33,
     "metadata": {},
     "output_type": "execute_result"
    }
   ],
   "source": [
    "# base\n",
    "rfc_base_final = RandomForestClassifier()\n",
    "rfc_base_final.fit(X_ros[:,0:3], y_ros)\n",
    "#pickle.dump(rfc_base_final, open('../models/final_rfc_base.sav', 'wb'))\n",
    "\n",
    "# engineered\n",
    "rfc_eng_final = RandomForestClassifier()\n",
    "rfc_eng_final.fit(X_ros, y_ros)\n",
    "#pickle.dump(rfc_eng_final, open('../models/final_rfc_eng.sav', 'wb'))"
   ]
  },
  {
   "cell_type": "code",
   "execution_count": 34,
   "metadata": {},
   "outputs": [
    {
     "data": {
      "text/plain": [
       "RandomForestClassifier(bootstrap=True, class_weight=None, criterion='gini',\n",
       "            max_depth=None, max_features='auto', max_leaf_nodes=None,\n",
       "            min_impurity_decrease=0.0, min_impurity_split=None,\n",
       "            min_samples_leaf=1, min_samples_split=2,\n",
       "            min_weight_fraction_leaf=0.0, n_estimators=10, n_jobs=1,\n",
       "            oob_score=False, random_state=None, verbose=0,\n",
       "            warm_start=False)"
      ]
     },
     "execution_count": 34,
     "metadata": {},
     "output_type": "execute_result"
    }
   ],
   "source": [
    "loaded_model = pickle.load(open('../models/final_rfc_base.sav', 'rb'))\n",
    "loaded_model"
   ]
  },
  {
   "cell_type": "code",
   "execution_count": 35,
   "metadata": {},
   "outputs": [
    {
     "data": {
      "text/plain": [
       "array([0, 0, 1, 0, 0, 1, 1, 0, 1, 1, 1, 0, 1, 0, 0, 1, 1, 1, 0, 1])"
      ]
     },
     "execution_count": 35,
     "metadata": {},
     "output_type": "execute_result"
    }
   ],
   "source": [
    "loaded_model.predict(X_ros[0:20,0:3])"
   ]
  },
  {
   "cell_type": "code",
   "execution_count": 36,
   "metadata": {},
   "outputs": [
    {
     "data": {
      "text/plain": [
       "array([0, 0, 1, 0, 0, 1, 1, 0, 1, 1, 1, 0, 1, 0, 0, 1, 1, 1, 0, 1])"
      ]
     },
     "execution_count": 36,
     "metadata": {},
     "output_type": "execute_result"
    }
   ],
   "source": [
    "y_ros[0:20]"
   ]
  },
  {
   "cell_type": "markdown",
   "metadata": {},
   "source": [
    "** Predict full follower list real/fake **"
   ]
  },
  {
   "cell_type": "code",
   "execution_count": 37,
   "metadata": {},
   "outputs": [
    {
     "data": {
      "text/html": [
       "<div>\n",
       "<style scoped>\n",
       "    .dataframe tbody tr th:only-of-type {\n",
       "        vertical-align: middle;\n",
       "    }\n",
       "\n",
       "    .dataframe tbody tr th {\n",
       "        vertical-align: top;\n",
       "    }\n",
       "\n",
       "    .dataframe thead th {\n",
       "        text-align: right;\n",
       "    }\n",
       "</style>\n",
       "<table border=\"1\" class=\"dataframe\">\n",
       "  <thead>\n",
       "    <tr style=\"text-align: right;\">\n",
       "      <th></th>\n",
       "      <th>posts</th>\n",
       "      <th>followers</th>\n",
       "      <th>following</th>\n",
       "      <th>ratio</th>\n",
       "      <th>has_number</th>\n",
       "      <th>ends_number</th>\n",
       "    </tr>\n",
       "  </thead>\n",
       "  <tbody>\n",
       "    <tr>\n",
       "      <th>0</th>\n",
       "      <td>0</td>\n",
       "      <td>685</td>\n",
       "      <td>6700</td>\n",
       "      <td>0.102239</td>\n",
       "      <td>0</td>\n",
       "      <td>0</td>\n",
       "    </tr>\n",
       "    <tr>\n",
       "      <th>1</th>\n",
       "      <td>278</td>\n",
       "      <td>2877</td>\n",
       "      <td>2093</td>\n",
       "      <td>1.374582</td>\n",
       "      <td>0</td>\n",
       "      <td>0</td>\n",
       "    </tr>\n",
       "    <tr>\n",
       "      <th>2</th>\n",
       "      <td>229</td>\n",
       "      <td>1359</td>\n",
       "      <td>862</td>\n",
       "      <td>1.576566</td>\n",
       "      <td>0</td>\n",
       "      <td>0</td>\n",
       "    </tr>\n",
       "    <tr>\n",
       "      <th>3</th>\n",
       "      <td>320</td>\n",
       "      <td>3071</td>\n",
       "      <td>7306</td>\n",
       "      <td>0.420339</td>\n",
       "      <td>0</td>\n",
       "      <td>0</td>\n",
       "    </tr>\n",
       "    <tr>\n",
       "      <th>4</th>\n",
       "      <td>66</td>\n",
       "      <td>2505</td>\n",
       "      <td>388</td>\n",
       "      <td>6.456186</td>\n",
       "      <td>0</td>\n",
       "      <td>0</td>\n",
       "    </tr>\n",
       "  </tbody>\n",
       "</table>\n",
       "</div>"
      ],
      "text/plain": [
       "   posts  followers  following     ratio  has_number  ends_number\n",
       "0      0        685       6700  0.102239           0            0\n",
       "1    278       2877       2093  1.374582           0            0\n",
       "2    229       1359        862  1.576566           0            0\n",
       "3    320       3071       7306  0.420339           0            0\n",
       "4     66       2505        388  6.456186           0            0"
      ]
     },
     "execution_count": 37,
     "metadata": {},
     "output_type": "execute_result"
    }
   ],
   "source": [
    "unlabeled_test = pd.read_csv('../data/test.csv', index_col=0)\n",
    "unlabeled_test['ratio'] = unlabeled_test.followers/unlabeled_test.following\n",
    "unlabeled_test['has_number'] = unlabeled_test.username.apply(lambda user: any(c.isdigit() for c in user)).astype(int)\n",
    "unlabeled_test['ends_number'] = unlabeled_test.username.apply(lambda user: user[-1].isdigit()).astype(int)\n",
    "unlabeled_test.drop('username',axis=1).head()"
   ]
  },
  {
   "cell_type": "code",
   "execution_count": 38,
   "metadata": {
    "collapsed": true
   },
   "outputs": [],
   "source": [
    "loaded_rfc_model_base = pickle.load(open('../models/final_rfc_base.sav', 'rb'))\n",
    "loaded_rfc_model_eng = pickle.load(open('../models/final_rfc_eng.sav', 'rb'))"
   ]
  },
  {
   "cell_type": "code",
   "execution_count": 39,
   "metadata": {},
   "outputs": [
    {
     "data": {
      "text/plain": [
       "array([1, 0, 0, ..., 1, 0, 0])"
      ]
     },
     "execution_count": 39,
     "metadata": {},
     "output_type": "execute_result"
    }
   ],
   "source": [
    "y_unlabeled_test = loaded_rfc_model_eng.predict(unlabeled_test[base_feats+eng_feats])\n",
    "y_unlabeled_test"
   ]
  },
  {
   "cell_type": "code",
   "execution_count": 40,
   "metadata": {},
   "outputs": [
    {
     "data": {
      "text/html": [
       "<div>\n",
       "<style scoped>\n",
       "    .dataframe tbody tr th:only-of-type {\n",
       "        vertical-align: middle;\n",
       "    }\n",
       "\n",
       "    .dataframe tbody tr th {\n",
       "        vertical-align: top;\n",
       "    }\n",
       "\n",
       "    .dataframe thead th {\n",
       "        text-align: right;\n",
       "    }\n",
       "</style>\n",
       "<table border=\"1\" class=\"dataframe\">\n",
       "  <thead>\n",
       "    <tr style=\"text-align: right;\">\n",
       "      <th></th>\n",
       "      <th>posts</th>\n",
       "      <th>followers</th>\n",
       "      <th>following</th>\n",
       "      <th>ratio</th>\n",
       "      <th>has_number</th>\n",
       "      <th>ends_number</th>\n",
       "      <th>fake</th>\n",
       "    </tr>\n",
       "  </thead>\n",
       "  <tbody>\n",
       "    <tr>\n",
       "      <th>0</th>\n",
       "      <td>0</td>\n",
       "      <td>685</td>\n",
       "      <td>6700</td>\n",
       "      <td>0.102239</td>\n",
       "      <td>0</td>\n",
       "      <td>0</td>\n",
       "      <td>1</td>\n",
       "    </tr>\n",
       "    <tr>\n",
       "      <th>1</th>\n",
       "      <td>278</td>\n",
       "      <td>2877</td>\n",
       "      <td>2093</td>\n",
       "      <td>1.374582</td>\n",
       "      <td>0</td>\n",
       "      <td>0</td>\n",
       "      <td>0</td>\n",
       "    </tr>\n",
       "    <tr>\n",
       "      <th>2</th>\n",
       "      <td>229</td>\n",
       "      <td>1359</td>\n",
       "      <td>862</td>\n",
       "      <td>1.576566</td>\n",
       "      <td>0</td>\n",
       "      <td>0</td>\n",
       "      <td>0</td>\n",
       "    </tr>\n",
       "    <tr>\n",
       "      <th>3</th>\n",
       "      <td>320</td>\n",
       "      <td>3071</td>\n",
       "      <td>7306</td>\n",
       "      <td>0.420339</td>\n",
       "      <td>0</td>\n",
       "      <td>0</td>\n",
       "      <td>1</td>\n",
       "    </tr>\n",
       "    <tr>\n",
       "      <th>4</th>\n",
       "      <td>66</td>\n",
       "      <td>2505</td>\n",
       "      <td>388</td>\n",
       "      <td>6.456186</td>\n",
       "      <td>0</td>\n",
       "      <td>0</td>\n",
       "      <td>0</td>\n",
       "    </tr>\n",
       "  </tbody>\n",
       "</table>\n",
       "</div>"
      ],
      "text/plain": [
       "   posts  followers  following     ratio  has_number  ends_number  fake\n",
       "0      0        685       6700  0.102239           0            0     1\n",
       "1    278       2877       2093  1.374582           0            0     0\n",
       "2    229       1359        862  1.576566           0            0     0\n",
       "3    320       3071       7306  0.420339           0            0     1\n",
       "4     66       2505        388  6.456186           0            0     0"
      ]
     },
     "execution_count": 40,
     "metadata": {},
     "output_type": "execute_result"
    }
   ],
   "source": [
    "unlabeled_test['fake'] = y_unlabeled_test\n",
    "unlabeled_test.drop('username',axis=1).head()"
   ]
  },
  {
   "cell_type": "code",
   "execution_count": 42,
   "metadata": {},
   "outputs": [
    {
     "name": "stdout",
     "output_type": "stream",
     "text": [
      "real: 2717, fake: 20658, total: 23375\n"
     ]
    }
   ],
   "source": [
    "# get a list of real followers\n",
    "real_test = unlabeled_test[unlabeled_test.fake==0].username.values\n",
    "real_train = labeled_train[labeled_train.fake==0].username.values\n",
    "real_followers = np.append(real_test, real_train)\n",
    "\n",
    "# fake followers\n",
    "fake_test = unlabeled_test[unlabeled_test.fake==1].username.values\n",
    "fake_train = labeled_train[labeled_train.fake==1].username.values\n",
    "fake_followers = np.append(fake_test, fake_train)\n",
    "\n",
    "print('real: {}, fake: {}, total: {}'.format(len(real_followers), \n",
    "                                           len(fake_followers), \n",
    "                                           len(real_followers) + len(fake_followers)))"
   ]
  }
 ],
 "metadata": {
  "kernelspec": {
   "display_name": "Python 3",
   "language": "python",
   "name": "python3"
  },
  "language_info": {
   "codemirror_mode": {
    "name": "ipython",
    "version": 3
   },
   "file_extension": ".py",
   "mimetype": "text/x-python",
   "name": "python",
   "nbconvert_exporter": "python",
   "pygments_lexer": "ipython3",
   "version": "3.6.7"
  }
 },
 "nbformat": 4,
 "nbformat_minor": 2
}
