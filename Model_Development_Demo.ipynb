{
 "cells": [
  {
   "cell_type": "markdown",
   "metadata": {},
   "source": [
    "# Identifying Fake Instagram Accounts\n",
    "\n",
    "Growing a strong social media presence is important for some businesses. While a large number of followers is desirable, many Instagram growth tactics resort to boosting follower numbers through acquisition or purchase of robot or dummy accounts. These accounts provide no value to the influencer apart from artificially inflating the number of followers the influencer has. The presence of these fake accounts serves to dilute the engagement rates between influencers and their fans. Therefore, it is helpful to identify and remove such accounts from an influencer's page. For large influencer accounts with thousands of followers, the need to remove accounts in an automated way is necessary to reduce tedious work for an individual manageing a social-media presence--time better spent creating content and engaging with followers. \n",
    "\n",
    "Previously, simple methods based on follower-ratio or post count cut-offs have been used to reduce follower populations. Here, we instead investigate the use of machine learning models to identify fake accounts. To do so, the following steps have been taken:\n",
    "\n",
    "### Model Development Steps\n",
    "\n",
    "1. Collect a list of followers for an influencer instagram account\n",
    "2. Scrape relevant statistics for each follower. Here, we use the following statistics:\n",
    "    + Number of Posts\n",
    "    + Number of Followers\n",
    "    + Number of Following\n",
    "3. Building a training set\n",
    "    + Select a subset of followers\n",
    "    + Manually label accounts as real or fake \n",
    "4. Test machine learning models\n",
    "    + Compare several models\n",
    "    + Feature engineering - try to create new features to improve model performance\n",
    "5. Build production model from full training set\n",
    "6. Apply model to identify fake accounts in test set\n",
    "7. Takeaways\n",
    "    + No (safe) automated way to remove accounts\n",
    "    + Resort to growth"
   ]
  },
  {
   "cell_type": "code",
   "execution_count": 1,
   "metadata": {
    "collapsed": true
   },
   "outputs": [],
   "source": [
    "import json, itertools, pickle\n",
    "import numpy as np\n",
    "import pandas as pd\n",
    "import matplotlib.pyplot as plt\n",
    "import seaborn as sns\n",
    "%matplotlib inline"
   ]
  },
  {
   "cell_type": "code",
   "execution_count": 3,
   "metadata": {},
   "outputs": [],
   "source": [
    "# tools\n",
    "from sklearn.model_selection import train_test_split\n",
    "from sklearn.metrics import accuracy_score, f1_score, precision_score, recall_score\n",
    "from sklearn.metrics import classification_report, confusion_matrix\n",
    "from sklearn.model_selection import StratifiedKFold\n",
    "from imblearn.over_sampling import RandomOverSampler\n",
    "from imblearn.under_sampling import RandomUnderSampler\n",
    "\n",
    "# learning models\n",
    "from sklearn.linear_model import LogisticRegression\n",
    "from sklearn.neighbors import KNeighborsClassifier\n",
    "from sklearn.ensemble import RandomForestClassifier"
   ]
  },
  {
   "cell_type": "markdown",
   "metadata": {},
   "source": [
    "## 1. Collect follower list\n",
    "\n",
    "This was done using the InstaPy library authored by Tim Grossman. \n",
    "\n",
    "Here is a sample of the results:"
   ]
  },
  {
   "cell_type": "code",
   "execution_count": 4,
   "metadata": {},
   "outputs": [
    {
     "name": "stdout",
     "output_type": "stream",
     "text": [
      "The client account has 23501 followers\n"
     ]
    }
   ],
   "source": [
    "with open('../data/followers-27-11-2018~full~23501.json') as f:\n",
    "    followers = json.load(f)\n",
    "    \n",
    "print('The client account has {} followers'.format(len(followers)))"
   ]
  },
  {
   "cell_type": "markdown",
   "metadata": {},
   "source": [
    "## 2. Scrape Follower Attributes\n",
    "\n",
    "This was done by modifying the InstaPy source code to add functionality and extract post and follower counts. The following information was retreived and saved to a .csv file:\n",
    "\n",
    "    + Number of Posts\n",
    "    + Number of Followers\n",
    "    + Number of accounts Followed"
   ]
  },
  {
   "cell_type": "code",
   "execution_count": 5,
   "metadata": {},
   "outputs": [
    {
     "data": {
      "text/html": [
       "<div>\n",
       "<style scoped>\n",
       "    .dataframe tbody tr th:only-of-type {\n",
       "        vertical-align: middle;\n",
       "    }\n",
       "\n",
       "    .dataframe tbody tr th {\n",
       "        vertical-align: top;\n",
       "    }\n",
       "\n",
       "    .dataframe thead th {\n",
       "        text-align: right;\n",
       "    }\n",
       "</style>\n",
       "<table border=\"1\" class=\"dataframe\">\n",
       "  <thead>\n",
       "    <tr style=\"text-align: right;\">\n",
       "      <th></th>\n",
       "      <th>posts</th>\n",
       "      <th>followers</th>\n",
       "      <th>following</th>\n",
       "    </tr>\n",
       "  </thead>\n",
       "  <tbody>\n",
       "    <tr>\n",
       "      <th>0</th>\n",
       "      <td>0</td>\n",
       "      <td>685</td>\n",
       "      <td>6700</td>\n",
       "    </tr>\n",
       "    <tr>\n",
       "      <th>1</th>\n",
       "      <td>278</td>\n",
       "      <td>2877</td>\n",
       "      <td>2093</td>\n",
       "    </tr>\n",
       "    <tr>\n",
       "      <th>2</th>\n",
       "      <td>229</td>\n",
       "      <td>1359</td>\n",
       "      <td>862</td>\n",
       "    </tr>\n",
       "    <tr>\n",
       "      <th>3</th>\n",
       "      <td>320</td>\n",
       "      <td>3071</td>\n",
       "      <td>7306</td>\n",
       "    </tr>\n",
       "    <tr>\n",
       "      <th>4</th>\n",
       "      <td>66</td>\n",
       "      <td>2505</td>\n",
       "      <td>388</td>\n",
       "    </tr>\n",
       "  </tbody>\n",
       "</table>\n",
       "</div>"
      ],
      "text/plain": [
       "  posts followers following\n",
       "0     0       685      6700\n",
       "1   278      2877      2093\n",
       "2   229      1359       862\n",
       "3   320      3071      7306\n",
       "4    66      2505       388"
      ]
     },
     "execution_count": 5,
     "metadata": {},
     "output_type": "execute_result"
    }
   ],
   "source": [
    "data = pd.read_csv('../data/follower-stats.txt', delim_whitespace=True)\n",
    "\n",
    "# select columns to show for anonymity\n",
    "cols_to_show = ['posts', 'followers', 'following']\n",
    "\n",
    "data[cols_to_show].head()"
   ]
  },
  {
   "cell_type": "markdown",
   "metadata": {},
   "source": [
    "Some of the scraped usernames returned no data. These entries must be removed from the data before training the model."
   ]
  },
  {
   "cell_type": "code",
   "execution_count": 6,
   "metadata": {},
   "outputs": [
    {
     "name": "stdout",
     "output_type": "stream",
     "text": [
      "There are 23375  active followers \n",
      "From a total of 23501 original followers\n"
     ]
    }
   ],
   "source": [
    "# Identify and remove usernames that have been changed\n",
    "changed_users = data[data.posts=='None']['username']\n",
    "changed_indices = changed_users.index\n",
    "changed_user_names = changed_users.values\n",
    "\n",
    "# create a dataframe with active users only\n",
    "active_users = data.drop(labels=changed_indices)\n",
    "\n",
    "print('There are {}  active followers \\nFrom a total of {} original followers'.format(\n",
    "    len(active_users), len(followers)))"
   ]
  },
  {
   "cell_type": "markdown",
   "metadata": {},
   "source": [
    "## 3. Build Training Set\n",
    "\n",
    "+ Select subset\n",
    "+ Manually label as Real/Fake\n",
    "\n",
    "** Subset selection **"
   ]
  },
  {
   "cell_type": "code",
   "execution_count": 7,
   "metadata": {
    "collapsed": true
   },
   "outputs": [],
   "source": [
    "# There is also an option to use DataFrame.sample()\n",
    "\n",
    "subset_percentage = 0.05\n",
    "\n",
    "# training set - use a random_state for reproducability\n",
    "data_train = active_users.sample(frac=subset_percentage, random_state=0)\n",
    "\n",
    "# test set\n",
    "data_test = active_users.drop(data_train.index)"
   ]
  },
  {
   "cell_type": "markdown",
   "metadata": {},
   "source": [
    "** Manually Labeled Subset **"
   ]
  },
  {
   "cell_type": "code",
   "execution_count": 8,
   "metadata": {},
   "outputs": [
    {
     "data": {
      "text/plain": [
       "1    1037\n",
       "0     132\n",
       "Name: fake, dtype: int64"
      ]
     },
     "execution_count": 8,
     "metadata": {},
     "output_type": "execute_result"
    }
   ],
   "source": [
    "# Updated to standardize manual labels\n",
    "labeled_train = pd.read_csv('../data/labeled_train_updated_tester_all.csv', index_col=0, usecols=[0,1,2,3,4,5,6])\n",
    "\n",
    "cols_to_show_labeled = ['posts', 'followers', 'following', 'fake']\n",
    "target_col = 'fake'\n",
    "\n",
    "# clean up a bit\n",
    "labeled_train.fake.replace(to_replace='o', value=0, inplace=True)\n",
    "labeled_train.fake = labeled_train.fake.apply(lambda x: int(x))\n",
    "labeled_train.fake.value_counts()"
   ]
  },
  {
   "cell_type": "code",
   "execution_count": 9,
   "metadata": {},
   "outputs": [
    {
     "data": {
      "text/plain": [
       "tester  fake\n",
       "four    1       246\n",
       "        0        24\n",
       "one     1       256\n",
       "        0        43\n",
       "three   1       260\n",
       "        0        40\n",
       "two     1       275\n",
       "        0        25\n",
       "Name: fake, dtype: int64"
      ]
     },
     "execution_count": 9,
     "metadata": {},
     "output_type": "execute_result"
    }
   ],
   "source": [
    "labeled_train.groupby('tester')['fake'].value_counts()"
   ]
  },
  {
   "cell_type": "markdown",
   "metadata": {},
   "source": [
    "** Tester 3 has a higher number of real accounts. Possibly less discerning **\n",
    "\n",
    "+ Tester 3 is definitely more leninent (went from 100 to 40!)\n",
    "+ Do the same for testers 2 and 4\n",
    "+ Test without editing\n",
    "+ If results are poor, re-visit and edit labels (7Ks)"
   ]
  },
  {
   "cell_type": "markdown",
   "metadata": {},
   "source": [
    "### Feature Engineering\n",
    "\n",
    "+ Ratio of followers/following\n",
    "+ Numbers in username"
   ]
  },
  {
   "cell_type": "code",
   "execution_count": 10,
   "metadata": {},
   "outputs": [
    {
     "data": {
      "text/html": [
       "<div>\n",
       "<style scoped>\n",
       "    .dataframe tbody tr th:only-of-type {\n",
       "        vertical-align: middle;\n",
       "    }\n",
       "\n",
       "    .dataframe tbody tr th {\n",
       "        vertical-align: top;\n",
       "    }\n",
       "\n",
       "    .dataframe thead th {\n",
       "        text-align: right;\n",
       "    }\n",
       "</style>\n",
       "<table border=\"1\" class=\"dataframe\">\n",
       "  <thead>\n",
       "    <tr style=\"text-align: right;\">\n",
       "      <th></th>\n",
       "      <th>posts</th>\n",
       "      <th>followers</th>\n",
       "      <th>following</th>\n",
       "      <th>fake</th>\n",
       "      <th>tester</th>\n",
       "      <th>ratio</th>\n",
       "      <th>has_number</th>\n",
       "      <th>ends_number</th>\n",
       "    </tr>\n",
       "  </thead>\n",
       "  <tbody>\n",
       "    <tr>\n",
       "      <th>14202</th>\n",
       "      <td>3</td>\n",
       "      <td>876</td>\n",
       "      <td>7202</td>\n",
       "      <td>0</td>\n",
       "      <td>one</td>\n",
       "      <td>0.121633</td>\n",
       "      <td>1</td>\n",
       "      <td>1</td>\n",
       "    </tr>\n",
       "    <tr>\n",
       "      <th>15214</th>\n",
       "      <td>61</td>\n",
       "      <td>81</td>\n",
       "      <td>5929</td>\n",
       "      <td>0</td>\n",
       "      <td>one</td>\n",
       "      <td>0.013662</td>\n",
       "      <td>1</td>\n",
       "      <td>0</td>\n",
       "    </tr>\n",
       "    <tr>\n",
       "      <th>7839</th>\n",
       "      <td>42</td>\n",
       "      <td>26</td>\n",
       "      <td>326</td>\n",
       "      <td>1</td>\n",
       "      <td>one</td>\n",
       "      <td>0.079755</td>\n",
       "      <td>0</td>\n",
       "      <td>0</td>\n",
       "    </tr>\n",
       "    <tr>\n",
       "      <th>16190</th>\n",
       "      <td>14</td>\n",
       "      <td>48</td>\n",
       "      <td>1454</td>\n",
       "      <td>0</td>\n",
       "      <td>one</td>\n",
       "      <td>0.033012</td>\n",
       "      <td>1</td>\n",
       "      <td>1</td>\n",
       "    </tr>\n",
       "    <tr>\n",
       "      <th>19924</th>\n",
       "      <td>32</td>\n",
       "      <td>207</td>\n",
       "      <td>6556</td>\n",
       "      <td>0</td>\n",
       "      <td>one</td>\n",
       "      <td>0.031574</td>\n",
       "      <td>0</td>\n",
       "      <td>0</td>\n",
       "    </tr>\n",
       "  </tbody>\n",
       "</table>\n",
       "</div>"
      ],
      "text/plain": [
       "       posts  followers  following  fake tester     ratio  has_number  \\\n",
       "14202      3        876       7202     0    one  0.121633           1   \n",
       "15214     61         81       5929     0    one  0.013662           1   \n",
       "7839      42         26        326     1    one  0.079755           0   \n",
       "16190     14         48       1454     0    one  0.033012           1   \n",
       "19924     32        207       6556     0    one  0.031574           0   \n",
       "\n",
       "       ends_number  \n",
       "14202            1  \n",
       "15214            0  \n",
       "7839             0  \n",
       "16190            1  \n",
       "19924            0  "
      ]
     },
     "execution_count": 10,
     "metadata": {},
     "output_type": "execute_result"
    }
   ],
   "source": [
    "labeled_train['ratio'] = labeled_train.followers/labeled_train.following\n",
    "labeled_train['has_number'] = labeled_train.username.apply(lambda user: any(c.isdigit() for c in user)).astype(int)\n",
    "labeled_train['ends_number'] = labeled_train.username.apply(lambda user: user[-1].isdigit()).astype(int)\n",
    "\n",
    "eng_feats = ['ratio', 'has_number', 'ends_number']\n",
    "\n",
    "cols_to_show_training = ['posts', 'followers', \n",
    "                         'following', 'fake', 'tester',\n",
    "                         'ratio', 'has_number', 'ends_number']\n",
    "\n",
    "labeled_train[cols_to_show_training].head()"
   ]
  },
  {
   "cell_type": "code",
   "execution_count": 11,
   "metadata": {},
   "outputs": [
    {
     "data": {
      "text/plain": [
       "Text(0.5,0,'# following')"
      ]
     },
     "execution_count": 11,
     "metadata": {},
     "output_type": "execute_result"
    },
    {
     "data": {
      "image/png": "[encoded data removed]",
      "text/plain": [
       "<matplotlib.figure.Figure at 0x119806828>"
      ]
     },
     "metadata": {},
     "output_type": "display_data"
    }
   ],
   "source": [
    "labeled_train.following.hist()\n",
    "plt.title('There is an unusually high number of accounts following over 6000 profiles')\n",
    "plt.ylabel('# accounts')\n",
    "plt.xlabel('# following')"
   ]
  },
  {
   "cell_type": "markdown",
   "metadata": {},
   "source": [
    "## 4. Learning Model Prototype"
   ]
  },
  {
   "cell_type": "code",
   "execution_count": 12,
   "metadata": {
    "collapsed": true
   },
   "outputs": [],
   "source": [
    "# define labels (this can change -- also this process can be automated to update different feature combinations)\n",
    "X_labels = ['posts', 'followers', 'following', 'ratio', 'has_number', 'ends_number']\n",
    "y_label = 'fake'\n",
    "\n",
    "X = labeled_train[X_labels]\n",
    "y = labeled_train[y_label]"
   ]
  },
  {
   "cell_type": "markdown",
   "metadata": {},
   "source": [
    "**Split training and testing set**\n",
    "\n",
    "Make sure all comparisons are made on the SAME split"
   ]
  },
  {
   "cell_type": "code",
   "execution_count": 13,
   "metadata": {
    "collapsed": true
   },
   "outputs": [],
   "source": [
    "X_train, X_test, y_train, y_test = train_test_split(X, y, random_state=0)"
   ]
  },
  {
   "cell_type": "code",
   "execution_count": 14,
   "metadata": {},
   "outputs": [
    {
     "name": "stdout",
     "output_type": "stream",
     "text": [
      "Base Features ['posts', 'followers', 'following']\n",
      "Engineered Features: ['ratio', 'has_number', 'ends_number']\n"
     ]
    }
   ],
   "source": [
    "base_feats = ['posts', 'followers', 'following']\n",
    "print('Base Features',base_feats)\n",
    "print('Engineered Features:', eng_feats)"
   ]
  },
  {
   "cell_type": "markdown",
   "metadata": {},
   "source": [
    "** Create a pipeline function to train & test model, print output **"
   ]
  },
  {
   "cell_type": "code",
   "execution_count": 15,
   "metadata": {
    "collapsed": true
   },
   "outputs": [],
   "source": [
    "def get_metrics(y_test, y_predicted):  \n",
    "    # true positives / (true positives+false positives)\n",
    "    precision = precision_score(y_test, y_predicted, pos_label=None,\n",
    "                                    average='weighted')             \n",
    "    # true positives / (true positives + false negatives)\n",
    "    recall = recall_score(y_test, y_predicted, pos_label=None,\n",
    "                              average='weighted')\n",
    "    \n",
    "    # harmonic mean of precision and recall\n",
    "    f1 = f1_score(y_test, y_predicted, pos_label=None, average='weighted')\n",
    "    \n",
    "    # true positives + true negatives/ total\n",
    "    accuracy = accuracy_score(y_test, y_predicted)\n",
    "    return accuracy, precision, recall, f1\n",
    "\n",
    "def plot_confusion_matrix(cm, classes,\n",
    "                          normalize=False,\n",
    "                          title='Confusion matrix',\n",
    "                          cmap=plt.cm.Blues):\n",
    "    \"\"\"\n",
    "    This function prints and plots the confusion matrix.\n",
    "    Normalization can be applied by setting `normalize=True`.\n",
    "    \"\"\"\n",
    "    if normalize:\n",
    "        cm = cm.astype('float') / cm.sum(axis=1)[:, np.newaxis]\n",
    "        print(\"Normalized confusion matrix\")\n",
    "    else:\n",
    "        #print('Confusion matrix, without normalization')\n",
    "        pass\n",
    "\n",
    "    #print(cm)\n",
    "\n",
    "    plt.imshow(cm, interpolation='nearest', cmap=cmap)\n",
    "    plt.title(title)\n",
    "    plt.colorbar()\n",
    "    tick_marks = np.arange(len(classes))\n",
    "    plt.xticks(tick_marks, classes, rotation=45)\n",
    "    plt.yticks(tick_marks, classes)\n",
    "\n",
    "    fmt = '.2f' if normalize else 'd'\n",
    "    thresh = cm.max() / 2.\n",
    "    for i, j in itertools.product(range(cm.shape[0]), range(cm.shape[1])):\n",
    "        plt.text(j, i, format(cm[i, j], fmt),\n",
    "                 horizontalalignment=\"center\",\n",
    "                 color=\"white\" if cm[i, j] > thresh else \"black\")\n",
    "\n",
    "    plt.ylabel('True label')\n",
    "    plt.xlabel('Predicted label')\n",
    "    plt.tight_layout()\n",
    "    \n",
    "def evaluate_model(X, y, model_name, random_state=0, confusion=True):\n",
    "    '''Select X features when calling the function\n",
    "    \n",
    "    Consider adding: Add k-fold, variance and mean\n",
    "    '''\n",
    "    \n",
    "    # create train/test sets\n",
    "    X_train, X_test, y_train, y_test = train_test_split(X, y, random_state=random_state)\n",
    "    \n",
    "    # get model\n",
    "    model = model_name\n",
    "    model.fit(X_train, y_train)\n",
    "    y_predicted = model.predict(X_test)\n",
    "    \n",
    "    # print metrics\n",
    "    #print('--- /// BASE MODEL /// ---')\n",
    "    print('--- Classification Report ---')\n",
    "    print(classification_report(y_test, y_predicted, labels=[0,1], target_names=['Real', 'Fake']))\n",
    "    print('--- Confusion Matrix ---')\n",
    "    print(confusion_matrix(y_test, y_predicted))\n",
    "    \n",
    "    if confusion:\n",
    "        plot_confusion_matrix(confusion_matrix(y_test, y_predicted), classes=['Real', 'Fake'],\n",
    "                      title='Confusion matrix')\n",
    "    else:\n",
    "        pass"
   ]
  },
  {
   "cell_type": "markdown",
   "metadata": {},
   "source": [
    "### Logistic Regression\n",
    "\n",
    "+ Poor recall of underrepresented class (30% of Real Accounts)\n",
    "+ Engineered features show no improvement of model performance"
   ]
  },
  {
   "cell_type": "code",
   "execution_count": 16,
   "metadata": {},
   "outputs": [
    {
     "name": "stdout",
     "output_type": "stream",
     "text": [
      "--- Classification Report ---\n",
      "             precision    recall  f1-score   support\n",
      "\n",
      "       Real       0.82      0.30      0.44        30\n",
      "       Fake       0.93      0.99      0.96       263\n",
      "\n",
      "avg / total       0.91      0.92      0.90       293\n",
      "\n",
      "--- Confusion Matrix ---\n",
      "[[  9  21]\n",
      " [  2 261]]\n"
     ]
    },
    {
     "data": {
      "image/png": "[encoded data removed]",
      "text/plain": [
       "<matplotlib.figure.Figure at 0x119949b00>"
      ]
     },
     "metadata": {},
     "output_type": "display_data"
    }
   ],
   "source": [
    "## BASE MODEL\n",
    "evaluate_model(X[base_feats], y, LogisticRegression())"
   ]
  },
  {
   "cell_type": "code",
   "execution_count": 17,
   "metadata": {},
   "outputs": [
    {
     "name": "stdout",
     "output_type": "stream",
     "text": [
      "--- Classification Report ---\n",
      "             precision    recall  f1-score   support\n",
      "\n",
      "       Real       0.85      0.37      0.51        30\n",
      "       Fake       0.93      0.99      0.96       263\n",
      "\n",
      "avg / total       0.92      0.93      0.92       293\n",
      "\n",
      "--- Confusion Matrix ---\n",
      "[[ 11  19]\n",
      " [  2 261]]\n"
     ]
    },
    {
     "data": {
      "image/png": "[encoded data removed]",
      "text/plain": [
       "<matplotlib.figure.Figure at 0x11e87a6d8>"
      ]
     },
     "metadata": {},
     "output_type": "display_data"
    }
   ],
   "source": [
    "## ENGINEERED FEATURES\n",
    "evaluate_model(X, y, LogisticRegression())"
   ]
  },
  {
   "cell_type": "markdown",
   "metadata": {
    "collapsed": true
   },
   "source": [
    "### Random Forest Classifier\n",
    "\n",
    "+ More accurate than logistic regression\n",
    "+ Higher recall (70% of Real accounts)\n",
    "+ Engineered features improve performance slightly, but not significantly"
   ]
  },
  {
   "cell_type": "code",
   "execution_count": 18,
   "metadata": {},
   "outputs": [
    {
     "name": "stdout",
     "output_type": "stream",
     "text": [
      "--- Classification Report ---\n",
      "             precision    recall  f1-score   support\n",
      "\n",
      "       Real       0.77      0.67      0.71        30\n",
      "       Fake       0.96      0.98      0.97       263\n",
      "\n",
      "avg / total       0.94      0.95      0.94       293\n",
      "\n",
      "--- Confusion Matrix ---\n",
      "[[ 20  10]\n",
      " [  6 257]]\n"
     ]
    },
    {
     "data": {
      "image/png": "[encoded data removed]",
      "text/plain": [
       "<matplotlib.figure.Figure at 0x11e89b358>"
      ]
     },
     "metadata": {},
     "output_type": "display_data"
    }
   ],
   "source": [
    "## BASE MODEL\n",
    "evaluate_model(X[base_feats], y, RandomForestClassifier())"
   ]
  },
  {
   "cell_type": "code",
   "execution_count": 19,
   "metadata": {},
   "outputs": [
    {
     "name": "stdout",
     "output_type": "stream",
     "text": [
      "--- Classification Report ---\n",
      "             precision    recall  f1-score   support\n",
      "\n",
      "       Real       0.75      0.70      0.72        30\n",
      "       Fake       0.97      0.97      0.97       263\n",
      "\n",
      "avg / total       0.94      0.95      0.94       293\n",
      "\n",
      "--- Confusion Matrix ---\n",
      "[[ 21   9]\n",
      " [  7 256]]\n"
     ]
    },
    {
     "data": {
      "image/png": "[encoded data removed]",
      "text/plain": [
       "<matplotlib.figure.Figure at 0x11eac9668>"
      ]
     },
     "metadata": {},
     "output_type": "display_data"
    }
   ],
   "source": [
    "## ENGINEERED MODEL\n",
    "evaluate_model(X, y, RandomForestClassifier())"
   ]
  },
  {
   "cell_type": "markdown",
   "metadata": {},
   "source": [
    "** We want near 1.00 recall on real accounts. **"
   ]
  },
  {
   "cell_type": "markdown",
   "metadata": {},
   "source": [
    "### KNN\n",
    "\n",
    "+ Improves upon Logistic Regression, but not as good as Random Forest\n",
    "+ Unsurprisignly, feature engineering makes no difference for nearest neighbors"
   ]
  },
  {
   "cell_type": "code",
   "execution_count": 20,
   "metadata": {},
   "outputs": [
    {
     "name": "stdout",
     "output_type": "stream",
     "text": [
      "--- Classification Report ---\n",
      "             precision    recall  f1-score   support\n",
      "\n",
      "       Real       0.83      0.63      0.72        30\n",
      "       Fake       0.96      0.98      0.97       263\n",
      "\n",
      "avg / total       0.95      0.95      0.95       293\n",
      "\n",
      "--- Confusion Matrix ---\n",
      "[[ 19  11]\n",
      " [  4 259]]\n"
     ]
    },
    {
     "data": {
      "image/png": "[encoded data removed]",
      "text/plain": [
       "<matplotlib.figure.Figure at 0x11ec08b00>"
      ]
     },
     "metadata": {},
     "output_type": "display_data"
    }
   ],
   "source": [
    "evaluate_model(X[base_feats], y, KNeighborsClassifier())"
   ]
  },
  {
   "cell_type": "code",
   "execution_count": 21,
   "metadata": {},
   "outputs": [
    {
     "name": "stdout",
     "output_type": "stream",
     "text": [
      "--- Classification Report ---\n",
      "             precision    recall  f1-score   support\n",
      "\n",
      "       Real       0.83      0.63      0.72        30\n",
      "       Fake       0.96      0.98      0.97       263\n",
      "\n",
      "avg / total       0.95      0.95      0.95       293\n",
      "\n",
      "--- Confusion Matrix ---\n",
      "[[ 19  11]\n",
      " [  4 259]]\n"
     ]
    },
    {
     "data": {
      "image/png": "[encoded data removed]",
      "text/plain": [
       "<matplotlib.figure.Figure at 0x11ed37588>"
      ]
     },
     "metadata": {},
     "output_type": "display_data"
    }
   ],
   "source": [
    "evaluate_model(X, y, KNeighborsClassifier())"
   ]
  },
  {
   "cell_type": "markdown",
   "metadata": {},
   "source": [
    "### Additional Models \n",
    "\n",
    "The following models were tested, but not pursued further.\n",
    "\n",
    "+ Naive Bayes (Gaussian) - extremely low recall (17%)\n",
    "+ Decision Tree - low recall as well (55%)"
   ]
  },
  {
   "cell_type": "markdown",
   "metadata": {},
   "source": [
    "### Sampling & K-fold cross-validation\n",
    "\n",
    "+ The goal is to improve recall of the underrepresented (real) class\n",
    "+ Undersampling and oversampling are both possible\n",
    "+ Continue only with Random Forest model\n",
    "+ Use stratified sampling as the classes are imbalanced\n",
    "\n",
    "Undersampling proved to be too small to be reliable. Try oversampling."
   ]
  },
  {
   "cell_type": "code",
   "execution_count": 22,
   "metadata": {},
   "outputs": [
    {
     "name": "stdout",
     "output_type": "stream",
     "text": [
      "There are 10 splits for k-fold cross-validation\n"
     ]
    }
   ],
   "source": [
    "# Instantiate and fit undersample model\n",
    "rus = RandomUnderSampler(random_state=0)\n",
    "X_rus, y_rus = rus.fit_sample(X, y)\n",
    "\n",
    "# split train and test sets or perform kfold cross validation\n",
    "#X_rus_train, X_rus_test, y_rus_train, y_rus_test = train_test_split(X_rus, y_rus, random_state=0)\n",
    "skf = StratifiedKFold(n_splits=10, random_state=0)\n",
    "print('There are {} splits for k-fold cross-validation'.format(skf.get_n_splits(X_rus, y_rus)))"
   ]
  },
  {
   "cell_type": "code",
   "execution_count": 23,
   "metadata": {},
   "outputs": [
    {
     "name": "stdout",
     "output_type": "stream",
     "text": [
      "RANDOM FOREST CLASSIFIER WITH UNDERSAMPLING\n",
      "--- Fold 1 ---\n",
      "accuracy = 0.786, precision = 0.850, recall = 0.786, f1 = 0.775\n",
      "--- Fold 2 ---\n",
      "accuracy = 0.964, precision = 0.967, recall = 0.964, f1 = 0.964\n",
      "--- Fold 3 ---\n",
      "accuracy = 0.885, precision = 0.887, recall = 0.885, f1 = 0.884\n",
      "--- Fold 4 ---\n",
      "accuracy = 0.923, precision = 0.933, recall = 0.923, f1 = 0.923\n",
      "--- Fold 5 ---\n",
      "accuracy = 0.962, precision = 0.964, recall = 0.962, f1 = 0.961\n",
      "--- Fold 6 ---\n",
      "accuracy = 0.808, precision = 0.810, recall = 0.808, f1 = 0.807\n",
      "--- Fold 7 ---\n",
      "accuracy = 0.962, precision = 0.964, recall = 0.962, f1 = 0.961\n",
      "--- Fold 8 ---\n",
      "accuracy = 0.923, precision = 0.923, recall = 0.923, f1 = 0.923\n",
      "--- Fold 9 ---\n",
      "accuracy = 0.885, precision = 0.887, recall = 0.885, f1 = 0.884\n",
      "--- Fold 10 ---\n",
      "accuracy = 0.923, precision = 0.923, recall = 0.923, f1 = 0.923\n",
      "Example Confusion Matrix\n",
      "[[12  1]\n",
      " [ 1 12]]\n",
      "Final Perfomance\n",
      "Accuracy: mean 0.902, variance 0.004\n",
      "Precision: mean 0.911, variance 0.002\n",
      "Recall: mean 0.902, variance 0.004\n"
     ]
    }
   ],
   "source": [
    "print('RANDOM FOREST CLASSIFIER WITH UNDERSAMPLING')\n",
    "acc_list = []; prec_list = []; rec_list = []\n",
    "for k, (train, test) in enumerate(skf.split(X_rus, y_rus)):\n",
    "    rfc_kfold = RandomForestClassifier()\n",
    "    rfc_kfold.fit(X_rus[train], y_rus[train])\n",
    "    y_pred_kfold = rfc_kfold.predict(X_rus[test])\n",
    "    print('--- Fold {} ---'.format(k+1))\n",
    "    accuracy, precision, recall, f1 = get_metrics(y_rus[test], y_pred_kfold)\n",
    "    print(\"accuracy = %.3f, precision = %.3f, recall = %.3f, f1 = %.3f\" % (accuracy, precision, recall, f1))\n",
    "    acc_list.append(accuracy)\n",
    "    prec_list.append(precision)\n",
    "    rec_list.append(recall)\n",
    "\n",
    "print('Example Confusion Matrix')\n",
    "print(confusion_matrix(y_rus[test], y_pred_kfold))    \n",
    "# Summarize\n",
    "print('Final Perfomance')\n",
    "print('Accuracy: mean %.3f, variance %.3f' % (np.mean(acc_list), np.var(acc_list)))\n",
    "print('Precision: mean %.3f, variance %.3f' % (np.mean(prec_list), np.var(prec_list)))\n",
    "print('Recall: mean %.3f, variance %.3f' % (np.mean(rec_list), np.var(rec_list)))"
   ]
  },
  {
   "cell_type": "markdown",
   "metadata": {},
   "source": [
    "### Oversampling \n",
    "\n",
    "+ Despite being very accurate, undersampling is too small. Only 26 samples are tested\n",
    "+ Oversampling is significantly larger\n",
    "+ And performs quite well\n",
    "+ Accuracy, precision, and recall are all high (>97% with low variance)"
   ]
  },
  {
   "cell_type": "code",
   "execution_count": 24,
   "metadata": {
    "collapsed": true
   },
   "outputs": [],
   "source": [
    "ros = RandomOverSampler(random_state=0)\n",
    "X_ros, y_ros = ros.fit_sample(X, y)\n",
    "X_ros_train, X_ros_test, y_ros_train, y_ros_test = train_test_split(X_ros, y_ros, random_state=0)"
   ]
  },
  {
   "cell_type": "code",
   "execution_count": 25,
   "metadata": {},
   "outputs": [
    {
     "name": "stdout",
     "output_type": "stream",
     "text": [
      "RANDOM FOREST CLASSIFIER WITH OVERSAMPLING\n",
      "--- Fold 1 ---\n",
      "accuracy = 1.000, precision = 1.000, recall = 1.000, f1 = 1.000\n",
      "--- Fold 2 ---\n",
      "accuracy = 0.986, precision = 0.986, recall = 0.986, f1 = 0.986\n",
      "--- Fold 3 ---\n",
      "accuracy = 0.981, precision = 0.981, recall = 0.981, f1 = 0.981\n",
      "--- Fold 4 ---\n",
      "accuracy = 0.962, precision = 0.964, recall = 0.962, f1 = 0.961\n",
      "--- Fold 5 ---\n",
      "accuracy = 0.976, precision = 0.977, recall = 0.976, f1 = 0.976\n",
      "--- Fold 6 ---\n",
      "accuracy = 0.976, precision = 0.977, recall = 0.976, f1 = 0.976\n",
      "--- Fold 7 ---\n",
      "accuracy = 0.990, precision = 0.991, recall = 0.990, f1 = 0.990\n",
      "--- Fold 8 ---\n",
      "accuracy = 0.976, precision = 0.977, recall = 0.976, f1 = 0.976\n",
      "--- Fold 9 ---\n",
      "accuracy = 0.951, precision = 0.956, recall = 0.951, f1 = 0.951\n",
      "--- Fold 10 ---\n",
      "accuracy = 0.971, precision = 0.972, recall = 0.971, f1 = 0.971\n",
      "Example Confusion Matrix\n",
      "[[103   0]\n",
      " [  6  97]]\n",
      "Final Perfomance\n",
      "Accuracy: mean 0.977, variance 0.000\n",
      "Precision: mean 0.978, variance 0.000\n",
      "Recall: mean 0.977, variance 0.000\n"
     ]
    }
   ],
   "source": [
    "print('RANDOM FOREST CLASSIFIER WITH OVERSAMPLING')\n",
    "acc_list = []; prec_list = []; rec_list = []\n",
    "for k, (train, test) in enumerate(skf.split(X_ros, y_ros)):\n",
    "    rfc_kfold = RandomForestClassifier()\n",
    "    rfc_kfold.fit(X_ros[train], y_ros[train])\n",
    "    y_pred_kfold = rfc_kfold.predict(X_ros[test])\n",
    "    print('--- Fold {} ---'.format(k+1))\n",
    "    accuracy, precision, recall, f1 = get_metrics(y_ros[test], y_pred_kfold)\n",
    "    print(\"accuracy = %.3f, precision = %.3f, recall = %.3f, f1 = %.3f\" % (accuracy, precision, recall, f1))\n",
    "    acc_list.append(accuracy)\n",
    "    prec_list.append(precision)\n",
    "    rec_list.append(recall)\n",
    "    \n",
    "print('Example Confusion Matrix')\n",
    "print(confusion_matrix(y_ros[test], y_pred_kfold))    \n",
    "# Summarize\n",
    "print('Final Perfomance')\n",
    "print('Accuracy: mean %.3f, variance %.3f' % (np.mean(acc_list), np.var(acc_list)))\n",
    "print('Precision: mean %.3f, variance %.3f' % (np.mean(prec_list), np.var(prec_list)))\n",
    "print('Recall: mean %.3f, variance %.3f' % (np.mean(rec_list), np.var(rec_list)))"
   ]
  },
  {
   "cell_type": "code",
   "execution_count": 26,
   "metadata": {},
   "outputs": [
    {
     "name": "stdout",
     "output_type": "stream",
     "text": [
      "Set     Samples     Fakes\n",
      "Test:      1868       934\n",
      "Training:   206       103\n"
     ]
    }
   ],
   "source": [
    "print('Set     Samples     Fakes')\n",
    "print('Test:     ', len(y_ros[train]), '     ',sum(y_ros[train]))\n",
    "print('Training:  ', len(y_ros[test]), '     ' ,sum(y_ros[test]))"
   ]
  },
  {
   "cell_type": "markdown",
   "metadata": {},
   "source": [
    "## 5. Training final model on full oversampled dataset\n",
    "\n",
    "+ Base feature model\n",
    "+ Engineered feature model"
   ]
  },
  {
   "cell_type": "code",
   "execution_count": 27,
   "metadata": {},
   "outputs": [
    {
     "data": {
      "text/plain": [
       "RandomForestClassifier(bootstrap=True, class_weight=None, criterion='gini',\n",
       "            max_depth=None, max_features='auto', max_leaf_nodes=None,\n",
       "            min_impurity_decrease=0.0, min_impurity_split=None,\n",
       "            min_samples_leaf=1, min_samples_split=2,\n",
       "            min_weight_fraction_leaf=0.0, n_estimators=10, n_jobs=1,\n",
       "            oob_score=False, random_state=None, verbose=0,\n",
       "            warm_start=False)"
      ]
     },
     "execution_count": 27,
     "metadata": {},
     "output_type": "execute_result"
    }
   ],
   "source": [
    "# base\n",
    "rfc_base_final = RandomForestClassifier()\n",
    "rfc_base_final.fit(X_ros[:,0:3], y_ros)\n",
    "#pickle.dump(rfc_base_final, open('../models/final_rfc_base.sav', 'wb'))\n",
    "\n",
    "# engineered\n",
    "rfc_eng_final = RandomForestClassifier()\n",
    "rfc_eng_final.fit(X_ros, y_ros)\n",
    "#pickle.dump(rfc_eng_final, open('../models/final_rfc_eng.sav', 'wb'))"
   ]
  },
  {
   "cell_type": "markdown",
   "metadata": {},
   "source": [
    "### Demonstrate the model works"
   ]
  },
  {
   "cell_type": "code",
   "execution_count": 28,
   "metadata": {},
   "outputs": [
    {
     "data": {
      "text/plain": [
       "RandomForestClassifier(bootstrap=True, class_weight=None, criterion='gini',\n",
       "            max_depth=None, max_features='auto', max_leaf_nodes=None,\n",
       "            min_impurity_decrease=0.0, min_impurity_split=None,\n",
       "            min_samples_leaf=1, min_samples_split=2,\n",
       "            min_weight_fraction_leaf=0.0, n_estimators=10, n_jobs=1,\n",
       "            oob_score=False, random_state=None, verbose=0,\n",
       "            warm_start=False)"
      ]
     },
     "execution_count": 28,
     "metadata": {},
     "output_type": "execute_result"
    }
   ],
   "source": [
    "loaded_model = pickle.load(open('../models/final_rfc_base.sav', 'rb'))\n",
    "loaded_model"
   ]
  },
  {
   "cell_type": "code",
   "execution_count": 32,
   "metadata": {},
   "outputs": [
    {
     "name": "stdout",
     "output_type": "stream",
     "text": [
      "Model Predictions: [0 0 1 0 0 1 1 0 1 1 1 0 1 0 0 1 1 1 0 1]\n",
      "Test Set Values: [0 0 1 0 0 1 1 0 1 1 1 0 1 0 0 1 1 1 0 1]\n"
     ]
    }
   ],
   "source": [
    "print('Model Predictions:', loaded_model.predict(X_ros[0:20,0:3]))\n",
    "print('Test Set Values:', y_ros[0:20])"
   ]
  },
  {
   "cell_type": "markdown",
   "metadata": {},
   "source": [
    "## 6. Apply model to identify fake accounts in test set"
   ]
  },
  {
   "cell_type": "code",
   "execution_count": 33,
   "metadata": {},
   "outputs": [
    {
     "data": {
      "text/html": [
       "<div>\n",
       "<style scoped>\n",
       "    .dataframe tbody tr th:only-of-type {\n",
       "        vertical-align: middle;\n",
       "    }\n",
       "\n",
       "    .dataframe tbody tr th {\n",
       "        vertical-align: top;\n",
       "    }\n",
       "\n",
       "    .dataframe thead th {\n",
       "        text-align: right;\n",
       "    }\n",
       "</style>\n",
       "<table border=\"1\" class=\"dataframe\">\n",
       "  <thead>\n",
       "    <tr style=\"text-align: right;\">\n",
       "      <th></th>\n",
       "      <th>posts</th>\n",
       "      <th>followers</th>\n",
       "      <th>following</th>\n",
       "      <th>ratio</th>\n",
       "      <th>has_number</th>\n",
       "      <th>ends_number</th>\n",
       "    </tr>\n",
       "  </thead>\n",
       "  <tbody>\n",
       "    <tr>\n",
       "      <th>0</th>\n",
       "      <td>0</td>\n",
       "      <td>685</td>\n",
       "      <td>6700</td>\n",
       "      <td>0.102239</td>\n",
       "      <td>0</td>\n",
       "      <td>0</td>\n",
       "    </tr>\n",
       "    <tr>\n",
       "      <th>1</th>\n",
       "      <td>278</td>\n",
       "      <td>2877</td>\n",
       "      <td>2093</td>\n",
       "      <td>1.374582</td>\n",
       "      <td>0</td>\n",
       "      <td>0</td>\n",
       "    </tr>\n",
       "    <tr>\n",
       "      <th>2</th>\n",
       "      <td>229</td>\n",
       "      <td>1359</td>\n",
       "      <td>862</td>\n",
       "      <td>1.576566</td>\n",
       "      <td>0</td>\n",
       "      <td>0</td>\n",
       "    </tr>\n",
       "    <tr>\n",
       "      <th>3</th>\n",
       "      <td>320</td>\n",
       "      <td>3071</td>\n",
       "      <td>7306</td>\n",
       "      <td>0.420339</td>\n",
       "      <td>0</td>\n",
       "      <td>0</td>\n",
       "    </tr>\n",
       "    <tr>\n",
       "      <th>4</th>\n",
       "      <td>66</td>\n",
       "      <td>2505</td>\n",
       "      <td>388</td>\n",
       "      <td>6.456186</td>\n",
       "      <td>0</td>\n",
       "      <td>0</td>\n",
       "    </tr>\n",
       "  </tbody>\n",
       "</table>\n",
       "</div>"
      ],
      "text/plain": [
       "   posts  followers  following     ratio  has_number  ends_number\n",
       "0      0        685       6700  0.102239           0            0\n",
       "1    278       2877       2093  1.374582           0            0\n",
       "2    229       1359        862  1.576566           0            0\n",
       "3    320       3071       7306  0.420339           0            0\n",
       "4     66       2505        388  6.456186           0            0"
      ]
     },
     "execution_count": 33,
     "metadata": {},
     "output_type": "execute_result"
    }
   ],
   "source": [
    "unlabeled_test = pd.read_csv('../data/test.csv', index_col=0)\n",
    "unlabeled_test['ratio'] = unlabeled_test.followers/unlabeled_test.following\n",
    "unlabeled_test['has_number'] = unlabeled_test.username.apply(lambda user: any(c.isdigit() for c in user)).astype(int)\n",
    "unlabeled_test['ends_number'] = unlabeled_test.username.apply(lambda user: user[-1].isdigit()).astype(int)\n",
    "unlabeled_test.drop('username',axis=1).head()"
   ]
  },
  {
   "cell_type": "code",
   "execution_count": 34,
   "metadata": {
    "collapsed": true
   },
   "outputs": [],
   "source": [
    "loaded_rfc_model_base = pickle.load(open('../models/final_rfc_base.sav', 'rb'))\n",
    "loaded_rfc_model_eng = pickle.load(open('../models/final_rfc_eng.sav', 'rb'))"
   ]
  },
  {
   "cell_type": "code",
   "execution_count": 35,
   "metadata": {},
   "outputs": [
    {
     "data": {
      "text/html": [
       "<div>\n",
       "<style scoped>\n",
       "    .dataframe tbody tr th:only-of-type {\n",
       "        vertical-align: middle;\n",
       "    }\n",
       "\n",
       "    .dataframe tbody tr th {\n",
       "        vertical-align: top;\n",
       "    }\n",
       "\n",
       "    .dataframe thead th {\n",
       "        text-align: right;\n",
       "    }\n",
       "</style>\n",
       "<table border=\"1\" class=\"dataframe\">\n",
       "  <thead>\n",
       "    <tr style=\"text-align: right;\">\n",
       "      <th></th>\n",
       "      <th>posts</th>\n",
       "      <th>followers</th>\n",
       "      <th>following</th>\n",
       "      <th>ratio</th>\n",
       "      <th>has_number</th>\n",
       "      <th>ends_number</th>\n",
       "      <th>fake</th>\n",
       "    </tr>\n",
       "  </thead>\n",
       "  <tbody>\n",
       "    <tr>\n",
       "      <th>0</th>\n",
       "      <td>0</td>\n",
       "      <td>685</td>\n",
       "      <td>6700</td>\n",
       "      <td>0.102239</td>\n",
       "      <td>0</td>\n",
       "      <td>0</td>\n",
       "      <td>1</td>\n",
       "    </tr>\n",
       "    <tr>\n",
       "      <th>1</th>\n",
       "      <td>278</td>\n",
       "      <td>2877</td>\n",
       "      <td>2093</td>\n",
       "      <td>1.374582</td>\n",
       "      <td>0</td>\n",
       "      <td>0</td>\n",
       "      <td>0</td>\n",
       "    </tr>\n",
       "    <tr>\n",
       "      <th>2</th>\n",
       "      <td>229</td>\n",
       "      <td>1359</td>\n",
       "      <td>862</td>\n",
       "      <td>1.576566</td>\n",
       "      <td>0</td>\n",
       "      <td>0</td>\n",
       "      <td>0</td>\n",
       "    </tr>\n",
       "    <tr>\n",
       "      <th>3</th>\n",
       "      <td>320</td>\n",
       "      <td>3071</td>\n",
       "      <td>7306</td>\n",
       "      <td>0.420339</td>\n",
       "      <td>0</td>\n",
       "      <td>0</td>\n",
       "      <td>1</td>\n",
       "    </tr>\n",
       "    <tr>\n",
       "      <th>4</th>\n",
       "      <td>66</td>\n",
       "      <td>2505</td>\n",
       "      <td>388</td>\n",
       "      <td>6.456186</td>\n",
       "      <td>0</td>\n",
       "      <td>0</td>\n",
       "      <td>0</td>\n",
       "    </tr>\n",
       "  </tbody>\n",
       "</table>\n",
       "</div>"
      ],
      "text/plain": [
       "   posts  followers  following     ratio  has_number  ends_number  fake\n",
       "0      0        685       6700  0.102239           0            0     1\n",
       "1    278       2877       2093  1.374582           0            0     0\n",
       "2    229       1359        862  1.576566           0            0     0\n",
       "3    320       3071       7306  0.420339           0            0     1\n",
       "4     66       2505        388  6.456186           0            0     0"
      ]
     },
     "execution_count": 35,
     "metadata": {},
     "output_type": "execute_result"
    }
   ],
   "source": [
    "y_unlabeled_test = loaded_rfc_model_eng.predict(unlabeled_test[base_feats+eng_feats])\n",
    "unlabeled_test['fake'] = y_unlabeled_test\n",
    "unlabeled_test.drop('username',axis=1).head()"
   ]
  },
  {
   "cell_type": "code",
   "execution_count": 36,
   "metadata": {},
   "outputs": [
    {
     "name": "stdout",
     "output_type": "stream",
     "text": [
      "real: 2717, fake: 20658, total: 23375\n"
     ]
    }
   ],
   "source": [
    "# get a list of real followers\n",
    "real_test = unlabeled_test[unlabeled_test.fake==0].username.values\n",
    "real_train = labeled_train[labeled_train.fake==0].username.values\n",
    "real_followers = np.append(real_test, real_train)\n",
    "\n",
    "# fake followers\n",
    "fake_test = unlabeled_test[unlabeled_test.fake==1].username.values\n",
    "fake_train = labeled_train[labeled_train.fake==1].username.values\n",
    "fake_followers = np.append(fake_test, fake_train)\n",
    "\n",
    "print('real: {}, fake: {}, total: {}'.format(len(real_followers), \n",
    "                                           len(fake_followers), \n",
    "                                           len(real_followers) + len(fake_followers)))"
   ]
  },
  {
   "cell_type": "markdown",
   "metadata": {},
   "source": [
    "## 7. Takeaways\n",
    "\n",
    "### Types of Fakes\n",
    "\n",
    "+ Over ~7K \n",
    "+ Abandoned accounts\n",
    "+ Brazilian/Thai bot network - undesirable even if real \n",
    "+ Stolen photos\n",
    "+ Generic photos\n",
    "+ Inapporopriate content \n",
    "+ Incoherent post history\n",
    "\n",
    "### Development & Evaluation Process\n",
    "\n",
    "+ Simple algorithms\n",
    "+ Feature engineering\n",
    "+ Advanced algorithms\n",
    "+ Comparison to standard methods (ie. cutoffs)\n",
    "+ We want 0's -- we don't mind 1's, some fakes are OK--but we do not want to miss REAL followers. \n",
    "+ A high real recall score is necessary"
   ]
  }
 ],
 "metadata": {
  "kernelspec": {
   "display_name": "Python 3",
   "language": "python",
   "name": "python3"
  },
  "language_info": {
   "codemirror_mode": {
    "name": "ipython",
    "version": 3
   },
   "file_extension": ".py",
   "mimetype": "text/x-python",
   "name": "python",
   "nbconvert_exporter": "python",
   "pygments_lexer": "ipython3",
   "version": "3.6.7"
  }
 },
 "nbformat": 4,
 "nbformat_minor": 2
}
